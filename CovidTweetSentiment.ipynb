{
  "nbformat": 4,
  "nbformat_minor": 0,
  "metadata": {
    "colab": {
      "name": "CovidTweetSentiment.ipynb",
      "provenance": [],
      "collapsed_sections": [
        "p222XeC1j_qQ"
      ],
      "toc_visible": true,
      "machine_shape": "hm"
    },
    "kernelspec": {
      "name": "python3",
      "display_name": "Python 3"
    },
    "accelerator": "GPU",
    "widgets": {
      "application/vnd.jupyter.widget-state+json": {
        "b738a3f1ecbe451a9a07801d4daff4a8": {
          "model_module": "@jupyter-widgets/controls",
          "model_name": "HBoxModel",
          "state": {
            "_view_name": "HBoxView",
            "_dom_classes": [],
            "_model_name": "HBoxModel",
            "_view_module": "@jupyter-widgets/controls",
            "_model_module_version": "1.5.0",
            "_view_count": null,
            "_view_module_version": "1.5.0",
            "box_style": "",
            "layout": "IPY_MODEL_f8e4010fb3774f6da650ecc20997d794",
            "_model_module": "@jupyter-widgets/controls",
            "children": [
              "IPY_MODEL_16d0eb3039ac4166bb3ca887e22722d7",
              "IPY_MODEL_8d86dd40945945ef9d7e0aa3fb664f2f"
            ]
          }
        },
        "f8e4010fb3774f6da650ecc20997d794": {
          "model_module": "@jupyter-widgets/base",
          "model_name": "LayoutModel",
          "state": {
            "_view_name": "LayoutView",
            "grid_template_rows": null,
            "right": null,
            "justify_content": null,
            "_view_module": "@jupyter-widgets/base",
            "overflow": null,
            "_model_module_version": "1.2.0",
            "_view_count": null,
            "flex_flow": null,
            "width": null,
            "min_width": null,
            "border": null,
            "align_items": null,
            "bottom": null,
            "_model_module": "@jupyter-widgets/base",
            "top": null,
            "grid_column": null,
            "overflow_y": null,
            "overflow_x": null,
            "grid_auto_flow": null,
            "grid_area": null,
            "grid_template_columns": null,
            "flex": null,
            "_model_name": "LayoutModel",
            "justify_items": null,
            "grid_row": null,
            "max_height": null,
            "align_content": null,
            "visibility": null,
            "align_self": null,
            "height": null,
            "min_height": null,
            "padding": null,
            "grid_auto_rows": null,
            "grid_gap": null,
            "max_width": null,
            "order": null,
            "_view_module_version": "1.2.0",
            "grid_template_areas": null,
            "object_position": null,
            "object_fit": null,
            "grid_auto_columns": null,
            "margin": null,
            "display": null,
            "left": null
          }
        },
        "16d0eb3039ac4166bb3ca887e22722d7": {
          "model_module": "@jupyter-widgets/controls",
          "model_name": "FloatProgressModel",
          "state": {
            "_view_name": "ProgressView",
            "style": "IPY_MODEL_3b3c2030ffe445128ef34aff16fdaf4f",
            "_dom_classes": [],
            "description": "Downloading: 100%",
            "_model_name": "FloatProgressModel",
            "bar_style": "success",
            "max": 231508,
            "_view_module": "@jupyter-widgets/controls",
            "_model_module_version": "1.5.0",
            "value": 231508,
            "_view_count": null,
            "_view_module_version": "1.5.0",
            "orientation": "horizontal",
            "min": 0,
            "description_tooltip": null,
            "_model_module": "@jupyter-widgets/controls",
            "layout": "IPY_MODEL_6369aaca4366477f8da5cbf8e9bb2b78"
          }
        },
        "8d86dd40945945ef9d7e0aa3fb664f2f": {
          "model_module": "@jupyter-widgets/controls",
          "model_name": "HTMLModel",
          "state": {
            "_view_name": "HTMLView",
            "style": "IPY_MODEL_ca6901d077cc49d69405b3b056160ccc",
            "_dom_classes": [],
            "description": "",
            "_model_name": "HTMLModel",
            "placeholder": "​",
            "_view_module": "@jupyter-widgets/controls",
            "_model_module_version": "1.5.0",
            "value": " 232k/232k [00:00&lt;00:00, 996kB/s]",
            "_view_count": null,
            "_view_module_version": "1.5.0",
            "description_tooltip": null,
            "_model_module": "@jupyter-widgets/controls",
            "layout": "IPY_MODEL_7492da55ee0e4ac481cd34e6e270b566"
          }
        },
        "3b3c2030ffe445128ef34aff16fdaf4f": {
          "model_module": "@jupyter-widgets/controls",
          "model_name": "ProgressStyleModel",
          "state": {
            "_view_name": "StyleView",
            "_model_name": "ProgressStyleModel",
            "description_width": "initial",
            "_view_module": "@jupyter-widgets/base",
            "_model_module_version": "1.5.0",
            "_view_count": null,
            "_view_module_version": "1.2.0",
            "bar_color": null,
            "_model_module": "@jupyter-widgets/controls"
          }
        },
        "6369aaca4366477f8da5cbf8e9bb2b78": {
          "model_module": "@jupyter-widgets/base",
          "model_name": "LayoutModel",
          "state": {
            "_view_name": "LayoutView",
            "grid_template_rows": null,
            "right": null,
            "justify_content": null,
            "_view_module": "@jupyter-widgets/base",
            "overflow": null,
            "_model_module_version": "1.2.0",
            "_view_count": null,
            "flex_flow": null,
            "width": null,
            "min_width": null,
            "border": null,
            "align_items": null,
            "bottom": null,
            "_model_module": "@jupyter-widgets/base",
            "top": null,
            "grid_column": null,
            "overflow_y": null,
            "overflow_x": null,
            "grid_auto_flow": null,
            "grid_area": null,
            "grid_template_columns": null,
            "flex": null,
            "_model_name": "LayoutModel",
            "justify_items": null,
            "grid_row": null,
            "max_height": null,
            "align_content": null,
            "visibility": null,
            "align_self": null,
            "height": null,
            "min_height": null,
            "padding": null,
            "grid_auto_rows": null,
            "grid_gap": null,
            "max_width": null,
            "order": null,
            "_view_module_version": "1.2.0",
            "grid_template_areas": null,
            "object_position": null,
            "object_fit": null,
            "grid_auto_columns": null,
            "margin": null,
            "display": null,
            "left": null
          }
        },
        "ca6901d077cc49d69405b3b056160ccc": {
          "model_module": "@jupyter-widgets/controls",
          "model_name": "DescriptionStyleModel",
          "state": {
            "_view_name": "StyleView",
            "_model_name": "DescriptionStyleModel",
            "description_width": "",
            "_view_module": "@jupyter-widgets/base",
            "_model_module_version": "1.5.0",
            "_view_count": null,
            "_view_module_version": "1.2.0",
            "_model_module": "@jupyter-widgets/controls"
          }
        },
        "7492da55ee0e4ac481cd34e6e270b566": {
          "model_module": "@jupyter-widgets/base",
          "model_name": "LayoutModel",
          "state": {
            "_view_name": "LayoutView",
            "grid_template_rows": null,
            "right": null,
            "justify_content": null,
            "_view_module": "@jupyter-widgets/base",
            "overflow": null,
            "_model_module_version": "1.2.0",
            "_view_count": null,
            "flex_flow": null,
            "width": null,
            "min_width": null,
            "border": null,
            "align_items": null,
            "bottom": null,
            "_model_module": "@jupyter-widgets/base",
            "top": null,
            "grid_column": null,
            "overflow_y": null,
            "overflow_x": null,
            "grid_auto_flow": null,
            "grid_area": null,
            "grid_template_columns": null,
            "flex": null,
            "_model_name": "LayoutModel",
            "justify_items": null,
            "grid_row": null,
            "max_height": null,
            "align_content": null,
            "visibility": null,
            "align_self": null,
            "height": null,
            "min_height": null,
            "padding": null,
            "grid_auto_rows": null,
            "grid_gap": null,
            "max_width": null,
            "order": null,
            "_view_module_version": "1.2.0",
            "grid_template_areas": null,
            "object_position": null,
            "object_fit": null,
            "grid_auto_columns": null,
            "margin": null,
            "display": null,
            "left": null
          }
        },
        "adb2c0dc10ff407f81628f0b36bb62b6": {
          "model_module": "@jupyter-widgets/controls",
          "model_name": "HBoxModel",
          "state": {
            "_view_name": "HBoxView",
            "_dom_classes": [],
            "_model_name": "HBoxModel",
            "_view_module": "@jupyter-widgets/controls",
            "_model_module_version": "1.5.0",
            "_view_count": null,
            "_view_module_version": "1.5.0",
            "box_style": "",
            "layout": "IPY_MODEL_c95ef484a1f1460dbfcc2e227c3546ae",
            "_model_module": "@jupyter-widgets/controls",
            "children": [
              "IPY_MODEL_d2ba5647e4604a26a90546f2feb230bf",
              "IPY_MODEL_26db6c39e8f94d4594dba0be62648bab"
            ]
          }
        },
        "c95ef484a1f1460dbfcc2e227c3546ae": {
          "model_module": "@jupyter-widgets/base",
          "model_name": "LayoutModel",
          "state": {
            "_view_name": "LayoutView",
            "grid_template_rows": null,
            "right": null,
            "justify_content": null,
            "_view_module": "@jupyter-widgets/base",
            "overflow": null,
            "_model_module_version": "1.2.0",
            "_view_count": null,
            "flex_flow": null,
            "width": null,
            "min_width": null,
            "border": null,
            "align_items": null,
            "bottom": null,
            "_model_module": "@jupyter-widgets/base",
            "top": null,
            "grid_column": null,
            "overflow_y": null,
            "overflow_x": null,
            "grid_auto_flow": null,
            "grid_area": null,
            "grid_template_columns": null,
            "flex": null,
            "_model_name": "LayoutModel",
            "justify_items": null,
            "grid_row": null,
            "max_height": null,
            "align_content": null,
            "visibility": null,
            "align_self": null,
            "height": null,
            "min_height": null,
            "padding": null,
            "grid_auto_rows": null,
            "grid_gap": null,
            "max_width": null,
            "order": null,
            "_view_module_version": "1.2.0",
            "grid_template_areas": null,
            "object_position": null,
            "object_fit": null,
            "grid_auto_columns": null,
            "margin": null,
            "display": null,
            "left": null
          }
        },
        "d2ba5647e4604a26a90546f2feb230bf": {
          "model_module": "@jupyter-widgets/controls",
          "model_name": "FloatProgressModel",
          "state": {
            "_view_name": "ProgressView",
            "style": "IPY_MODEL_c68091832ea44386ba9805f77710f973",
            "_dom_classes": [],
            "description": "Downloading: 100%",
            "_model_name": "FloatProgressModel",
            "bar_style": "success",
            "max": 433,
            "_view_module": "@jupyter-widgets/controls",
            "_model_module_version": "1.5.0",
            "value": 433,
            "_view_count": null,
            "_view_module_version": "1.5.0",
            "orientation": "horizontal",
            "min": 0,
            "description_tooltip": null,
            "_model_module": "@jupyter-widgets/controls",
            "layout": "IPY_MODEL_857d4de8384f4b54bf18160aaebfe234"
          }
        },
        "26db6c39e8f94d4594dba0be62648bab": {
          "model_module": "@jupyter-widgets/controls",
          "model_name": "HTMLModel",
          "state": {
            "_view_name": "HTMLView",
            "style": "IPY_MODEL_db504d3cee20427684d3a7fd2e169e6d",
            "_dom_classes": [],
            "description": "",
            "_model_name": "HTMLModel",
            "placeholder": "​",
            "_view_module": "@jupyter-widgets/controls",
            "_model_module_version": "1.5.0",
            "value": " 433/433 [00:06&lt;00:00, 69.1B/s]",
            "_view_count": null,
            "_view_module_version": "1.5.0",
            "description_tooltip": null,
            "_model_module": "@jupyter-widgets/controls",
            "layout": "IPY_MODEL_2bdc1905d02a4a35817eab23bd3720a0"
          }
        },
        "c68091832ea44386ba9805f77710f973": {
          "model_module": "@jupyter-widgets/controls",
          "model_name": "ProgressStyleModel",
          "state": {
            "_view_name": "StyleView",
            "_model_name": "ProgressStyleModel",
            "description_width": "initial",
            "_view_module": "@jupyter-widgets/base",
            "_model_module_version": "1.5.0",
            "_view_count": null,
            "_view_module_version": "1.2.0",
            "bar_color": null,
            "_model_module": "@jupyter-widgets/controls"
          }
        },
        "857d4de8384f4b54bf18160aaebfe234": {
          "model_module": "@jupyter-widgets/base",
          "model_name": "LayoutModel",
          "state": {
            "_view_name": "LayoutView",
            "grid_template_rows": null,
            "right": null,
            "justify_content": null,
            "_view_module": "@jupyter-widgets/base",
            "overflow": null,
            "_model_module_version": "1.2.0",
            "_view_count": null,
            "flex_flow": null,
            "width": null,
            "min_width": null,
            "border": null,
            "align_items": null,
            "bottom": null,
            "_model_module": "@jupyter-widgets/base",
            "top": null,
            "grid_column": null,
            "overflow_y": null,
            "overflow_x": null,
            "grid_auto_flow": null,
            "grid_area": null,
            "grid_template_columns": null,
            "flex": null,
            "_model_name": "LayoutModel",
            "justify_items": null,
            "grid_row": null,
            "max_height": null,
            "align_content": null,
            "visibility": null,
            "align_self": null,
            "height": null,
            "min_height": null,
            "padding": null,
            "grid_auto_rows": null,
            "grid_gap": null,
            "max_width": null,
            "order": null,
            "_view_module_version": "1.2.0",
            "grid_template_areas": null,
            "object_position": null,
            "object_fit": null,
            "grid_auto_columns": null,
            "margin": null,
            "display": null,
            "left": null
          }
        },
        "db504d3cee20427684d3a7fd2e169e6d": {
          "model_module": "@jupyter-widgets/controls",
          "model_name": "DescriptionStyleModel",
          "state": {
            "_view_name": "StyleView",
            "_model_name": "DescriptionStyleModel",
            "description_width": "",
            "_view_module": "@jupyter-widgets/base",
            "_model_module_version": "1.5.0",
            "_view_count": null,
            "_view_module_version": "1.2.0",
            "_model_module": "@jupyter-widgets/controls"
          }
        },
        "2bdc1905d02a4a35817eab23bd3720a0": {
          "model_module": "@jupyter-widgets/base",
          "model_name": "LayoutModel",
          "state": {
            "_view_name": "LayoutView",
            "grid_template_rows": null,
            "right": null,
            "justify_content": null,
            "_view_module": "@jupyter-widgets/base",
            "overflow": null,
            "_model_module_version": "1.2.0",
            "_view_count": null,
            "flex_flow": null,
            "width": null,
            "min_width": null,
            "border": null,
            "align_items": null,
            "bottom": null,
            "_model_module": "@jupyter-widgets/base",
            "top": null,
            "grid_column": null,
            "overflow_y": null,
            "overflow_x": null,
            "grid_auto_flow": null,
            "grid_area": null,
            "grid_template_columns": null,
            "flex": null,
            "_model_name": "LayoutModel",
            "justify_items": null,
            "grid_row": null,
            "max_height": null,
            "align_content": null,
            "visibility": null,
            "align_self": null,
            "height": null,
            "min_height": null,
            "padding": null,
            "grid_auto_rows": null,
            "grid_gap": null,
            "max_width": null,
            "order": null,
            "_view_module_version": "1.2.0",
            "grid_template_areas": null,
            "object_position": null,
            "object_fit": null,
            "grid_auto_columns": null,
            "margin": null,
            "display": null,
            "left": null
          }
        },
        "740a98fb8a5140678ad67e483adb0389": {
          "model_module": "@jupyter-widgets/controls",
          "model_name": "HBoxModel",
          "state": {
            "_view_name": "HBoxView",
            "_dom_classes": [],
            "_model_name": "HBoxModel",
            "_view_module": "@jupyter-widgets/controls",
            "_model_module_version": "1.5.0",
            "_view_count": null,
            "_view_module_version": "1.5.0",
            "box_style": "",
            "layout": "IPY_MODEL_0b1d67d2969e474f91609e201950f9ee",
            "_model_module": "@jupyter-widgets/controls",
            "children": [
              "IPY_MODEL_9d3fe7b27e344d189556dd57a40c21d7",
              "IPY_MODEL_3ecdb882c83e4404afb7ac46c82e8a48"
            ]
          }
        },
        "0b1d67d2969e474f91609e201950f9ee": {
          "model_module": "@jupyter-widgets/base",
          "model_name": "LayoutModel",
          "state": {
            "_view_name": "LayoutView",
            "grid_template_rows": null,
            "right": null,
            "justify_content": null,
            "_view_module": "@jupyter-widgets/base",
            "overflow": null,
            "_model_module_version": "1.2.0",
            "_view_count": null,
            "flex_flow": null,
            "width": null,
            "min_width": null,
            "border": null,
            "align_items": null,
            "bottom": null,
            "_model_module": "@jupyter-widgets/base",
            "top": null,
            "grid_column": null,
            "overflow_y": null,
            "overflow_x": null,
            "grid_auto_flow": null,
            "grid_area": null,
            "grid_template_columns": null,
            "flex": null,
            "_model_name": "LayoutModel",
            "justify_items": null,
            "grid_row": null,
            "max_height": null,
            "align_content": null,
            "visibility": null,
            "align_self": null,
            "height": null,
            "min_height": null,
            "padding": null,
            "grid_auto_rows": null,
            "grid_gap": null,
            "max_width": null,
            "order": null,
            "_view_module_version": "1.2.0",
            "grid_template_areas": null,
            "object_position": null,
            "object_fit": null,
            "grid_auto_columns": null,
            "margin": null,
            "display": null,
            "left": null
          }
        },
        "9d3fe7b27e344d189556dd57a40c21d7": {
          "model_module": "@jupyter-widgets/controls",
          "model_name": "FloatProgressModel",
          "state": {
            "_view_name": "ProgressView",
            "style": "IPY_MODEL_b8807db3d6044ce8980163c7b135039c",
            "_dom_classes": [],
            "description": "Downloading: 100%",
            "_model_name": "FloatProgressModel",
            "bar_style": "success",
            "max": 536063208,
            "_view_module": "@jupyter-widgets/controls",
            "_model_module_version": "1.5.0",
            "value": 536063208,
            "_view_count": null,
            "_view_module_version": "1.5.0",
            "orientation": "horizontal",
            "min": 0,
            "description_tooltip": null,
            "_model_module": "@jupyter-widgets/controls",
            "layout": "IPY_MODEL_64125187da774cdc892ea05490a6309e"
          }
        },
        "3ecdb882c83e4404afb7ac46c82e8a48": {
          "model_module": "@jupyter-widgets/controls",
          "model_name": "HTMLModel",
          "state": {
            "_view_name": "HTMLView",
            "style": "IPY_MODEL_e93ea711f2e64fe589a0f2a5fea367ae",
            "_dom_classes": [],
            "description": "",
            "_model_name": "HTMLModel",
            "placeholder": "​",
            "_view_module": "@jupyter-widgets/controls",
            "_model_module_version": "1.5.0",
            "value": " 536M/536M [00:06&lt;00:00, 89.2MB/s]",
            "_view_count": null,
            "_view_module_version": "1.5.0",
            "description_tooltip": null,
            "_model_module": "@jupyter-widgets/controls",
            "layout": "IPY_MODEL_e9222d90ec8c49f4986d5bbd4a85ada1"
          }
        },
        "b8807db3d6044ce8980163c7b135039c": {
          "model_module": "@jupyter-widgets/controls",
          "model_name": "ProgressStyleModel",
          "state": {
            "_view_name": "StyleView",
            "_model_name": "ProgressStyleModel",
            "description_width": "initial",
            "_view_module": "@jupyter-widgets/base",
            "_model_module_version": "1.5.0",
            "_view_count": null,
            "_view_module_version": "1.2.0",
            "bar_color": null,
            "_model_module": "@jupyter-widgets/controls"
          }
        },
        "64125187da774cdc892ea05490a6309e": {
          "model_module": "@jupyter-widgets/base",
          "model_name": "LayoutModel",
          "state": {
            "_view_name": "LayoutView",
            "grid_template_rows": null,
            "right": null,
            "justify_content": null,
            "_view_module": "@jupyter-widgets/base",
            "overflow": null,
            "_model_module_version": "1.2.0",
            "_view_count": null,
            "flex_flow": null,
            "width": null,
            "min_width": null,
            "border": null,
            "align_items": null,
            "bottom": null,
            "_model_module": "@jupyter-widgets/base",
            "top": null,
            "grid_column": null,
            "overflow_y": null,
            "overflow_x": null,
            "grid_auto_flow": null,
            "grid_area": null,
            "grid_template_columns": null,
            "flex": null,
            "_model_name": "LayoutModel",
            "justify_items": null,
            "grid_row": null,
            "max_height": null,
            "align_content": null,
            "visibility": null,
            "align_self": null,
            "height": null,
            "min_height": null,
            "padding": null,
            "grid_auto_rows": null,
            "grid_gap": null,
            "max_width": null,
            "order": null,
            "_view_module_version": "1.2.0",
            "grid_template_areas": null,
            "object_position": null,
            "object_fit": null,
            "grid_auto_columns": null,
            "margin": null,
            "display": null,
            "left": null
          }
        },
        "e93ea711f2e64fe589a0f2a5fea367ae": {
          "model_module": "@jupyter-widgets/controls",
          "model_name": "DescriptionStyleModel",
          "state": {
            "_view_name": "StyleView",
            "_model_name": "DescriptionStyleModel",
            "description_width": "",
            "_view_module": "@jupyter-widgets/base",
            "_model_module_version": "1.5.0",
            "_view_count": null,
            "_view_module_version": "1.2.0",
            "_model_module": "@jupyter-widgets/controls"
          }
        },
        "e9222d90ec8c49f4986d5bbd4a85ada1": {
          "model_module": "@jupyter-widgets/base",
          "model_name": "LayoutModel",
          "state": {
            "_view_name": "LayoutView",
            "grid_template_rows": null,
            "right": null,
            "justify_content": null,
            "_view_module": "@jupyter-widgets/base",
            "overflow": null,
            "_model_module_version": "1.2.0",
            "_view_count": null,
            "flex_flow": null,
            "width": null,
            "min_width": null,
            "border": null,
            "align_items": null,
            "bottom": null,
            "_model_module": "@jupyter-widgets/base",
            "top": null,
            "grid_column": null,
            "overflow_y": null,
            "overflow_x": null,
            "grid_auto_flow": null,
            "grid_area": null,
            "grid_template_columns": null,
            "flex": null,
            "_model_name": "LayoutModel",
            "justify_items": null,
            "grid_row": null,
            "max_height": null,
            "align_content": null,
            "visibility": null,
            "align_self": null,
            "height": null,
            "min_height": null,
            "padding": null,
            "grid_auto_rows": null,
            "grid_gap": null,
            "max_width": null,
            "order": null,
            "_view_module_version": "1.2.0",
            "grid_template_areas": null,
            "object_position": null,
            "object_fit": null,
            "grid_auto_columns": null,
            "margin": null,
            "display": null,
            "left": null
          }
        }
      }
    }
  },
  "cells": [
    {
      "cell_type": "markdown",
      "metadata": {
        "id": "OggSH752RSaK",
        "colab_type": "text"
      },
      "source": [
        "# Title : Covid19 Tweet Sentiment Analysis"
      ]
    },
    {
      "cell_type": "markdown",
      "metadata": {
        "id": "rrkNvIw9Rbr9",
        "colab_type": "text"
      },
      "source": [
        "Problem at hand : Sentiment Analysis. Predict 'sentiment' using tweets"
      ]
    },
    {
      "cell_type": "markdown",
      "metadata": {
        "id": "KE9b_JLoRf_n",
        "colab_type": "text"
      },
      "source": [
        "# 0.Import and Preprocess Data"
      ]
    },
    {
      "cell_type": "markdown",
      "metadata": {
        "id": "MFclVIrXieed",
        "colab_type": "text"
      },
      "source": [
        "##0.1.Download Data"
      ]
    },
    {
      "cell_type": "markdown",
      "metadata": {
        "id": "zLouQ7kcSZuD",
        "colab_type": "text"
      },
      "source": [
        "###0.1.1Download data from kaggle"
      ]
    },
    {
      "cell_type": "code",
      "metadata": {
        "id": "w0Te5YrC4nL_",
        "colab_type": "code",
        "colab": {}
      },
      "source": [
        "!pip install -q kaggle"
      ],
      "execution_count": null,
      "outputs": []
    },
    {
      "cell_type": "code",
      "metadata": {
        "id": "0920StOp4qKC",
        "colab_type": "code",
        "colab": {}
      },
      "source": [
        "from google.colab import files\n",
        "files.upload() #and upload kaggle.json"
      ],
      "execution_count": null,
      "outputs": []
    },
    {
      "cell_type": "code",
      "metadata": {
        "id": "X_BAORYr5DSI",
        "colab_type": "code",
        "colab": {
          "base_uri": "https://localhost:8080/",
          "height": 72
        },
        "outputId": "15d70162-35bb-4a8a-8244-e76bab4c2440"
      },
      "source": [
        "! mkdir ~/.kaggle\n",
        "! cp kaggle.json ~/.kaggle/\n",
        "! chmod 600 ~/.kaggle/kaggle.json\n",
        "! kaggle datasets download -d datatattle/covid-19-nlp-text-classification"
      ],
      "execution_count": null,
      "outputs": [
        {
          "output_type": "stream",
          "text": [
            "Downloading covid-19-nlp-text-classification.zip to /content\n",
            "\r  0% 0.00/4.38M [00:00<?, ?B/s]\n",
            "\r100% 4.38M/4.38M [00:00<00:00, 71.5MB/s]\n"
          ],
          "name": "stdout"
        }
      ]
    },
    {
      "cell_type": "code",
      "metadata": {
        "id": "T4FT_XeG7Rz9",
        "colab_type": "code",
        "colab": {
          "base_uri": "https://localhost:8080/",
          "height": 72
        },
        "outputId": "8a86e4c3-1bd7-4877-9653-d0332fa23dc6"
      },
      "source": [
        "!unzip covid-19-nlp-text-classification.zip"
      ],
      "execution_count": null,
      "outputs": [
        {
          "output_type": "stream",
          "text": [
            "Archive:  covid-19-nlp-text-classification.zip\n",
            "  inflating: Corona_NLP_test.csv     \n",
            "  inflating: Corona_NLP_train.csv    \n"
          ],
          "name": "stdout"
        }
      ]
    },
    {
      "cell_type": "markdown",
      "metadata": {
        "id": "6PNX8dl8iqGy",
        "colab_type": "text"
      },
      "source": [
        "###0.1.2.OR Download Data from colab"
      ]
    },
    {
      "cell_type": "code",
      "metadata": {
        "id": "Q8dZCVHwiu9H",
        "colab_type": "code",
        "colab": {}
      },
      "source": [
        "!cp '/content/drive/My Drive/2.Projects/Covid Tweet Sentiment Classification/data/Corona_NLP_train.csv' Corona_NLP_train.csv\n",
        "!cp '/content/drive/My Drive/2.Projects/Covid Tweet Sentiment Classification/data/Corona_NLP_test.csv' Corona_NLP_test.csv"
      ],
      "execution_count": null,
      "outputs": []
    },
    {
      "cell_type": "markdown",
      "metadata": {
        "id": "-_-53g9ySdjL",
        "colab_type": "text"
      },
      "source": [
        "## 0.1.Import data"
      ]
    },
    {
      "cell_type": "code",
      "metadata": {
        "id": "gdoy4mDXSV3h",
        "colab_type": "code",
        "colab": {
          "base_uri": "https://localhost:8080/",
          "height": 52
        },
        "outputId": "6bd082d9-27d8-4224-e6f0-d158082417c2"
      },
      "source": [
        "# Utils\n",
        "import numpy as np\n",
        "import pandas as pd\n",
        "import os\n",
        "import seaborn as sns\n",
        "import matplotlib.pyplot as plt\n",
        "%matplotlib inline\n",
        "from tqdm import tqdm\n",
        "# import logging\n",
        "\n",
        "import logging\n",
        "logging.basicConfig(level=logging.ERROR)\n",
        "\n",
        "# Set log\n",
        "# logging.basicConfig(format='%(asctime)s : %(levelname)s : %(message)s', level=logging.INFO)"
      ],
      "execution_count": null,
      "outputs": [
        {
          "output_type": "stream",
          "text": [
            "/usr/local/lib/python3.6/dist-packages/statsmodels/tools/_testing.py:19: FutureWarning: pandas.util.testing is deprecated. Use the functions in the public API at pandas.testing instead.\n",
            "  import pandas.util.testing as tm\n"
          ],
          "name": "stderr"
        }
      ]
    },
    {
      "cell_type": "code",
      "metadata": {
        "id": "EG3HAMVwS3BR",
        "colab_type": "code",
        "colab": {}
      },
      "source": [
        "train_df = pd.read_csv('Corona_NLP_train.csv', encoding='ISO-8859-1')\n",
        "test_df = pd.read_csv('Corona_NLP_test.csv', encoding='ISO-8859-1')"
      ],
      "execution_count": null,
      "outputs": []
    },
    {
      "cell_type": "markdown",
      "metadata": {
        "id": "kzKgO6oIS69k",
        "colab_type": "text"
      },
      "source": [
        "##0.2.Simple EDA"
      ]
    },
    {
      "cell_type": "code",
      "metadata": {
        "id": "REWcBBvpS98u",
        "colab_type": "code",
        "colab": {
          "base_uri": "https://localhost:8080/",
          "height": 197
        },
        "outputId": "8b706da3-9c1d-4e9e-e7f4-3f13e48bf35f"
      },
      "source": [
        "train_df.head()"
      ],
      "execution_count": null,
      "outputs": [
        {
          "output_type": "execute_result",
          "data": {
            "text/html": [
              "<div>\n",
              "<style scoped>\n",
              "    .dataframe tbody tr th:only-of-type {\n",
              "        vertical-align: middle;\n",
              "    }\n",
              "\n",
              "    .dataframe tbody tr th {\n",
              "        vertical-align: top;\n",
              "    }\n",
              "\n",
              "    .dataframe thead th {\n",
              "        text-align: right;\n",
              "    }\n",
              "</style>\n",
              "<table border=\"1\" class=\"dataframe\">\n",
              "  <thead>\n",
              "    <tr style=\"text-align: right;\">\n",
              "      <th></th>\n",
              "      <th>UserName</th>\n",
              "      <th>ScreenName</th>\n",
              "      <th>Location</th>\n",
              "      <th>TweetAt</th>\n",
              "      <th>OriginalTweet</th>\n",
              "      <th>Sentiment</th>\n",
              "    </tr>\n",
              "  </thead>\n",
              "  <tbody>\n",
              "    <tr>\n",
              "      <th>0</th>\n",
              "      <td>3799</td>\n",
              "      <td>48751</td>\n",
              "      <td>London</td>\n",
              "      <td>16-03-2020</td>\n",
              "      <td>@MeNyrbie @Phil_Gahan @Chrisitv https://t.co/i...</td>\n",
              "      <td>Neutral</td>\n",
              "    </tr>\n",
              "    <tr>\n",
              "      <th>1</th>\n",
              "      <td>3800</td>\n",
              "      <td>48752</td>\n",
              "      <td>UK</td>\n",
              "      <td>16-03-2020</td>\n",
              "      <td>advice Talk to your neighbours family to excha...</td>\n",
              "      <td>Positive</td>\n",
              "    </tr>\n",
              "    <tr>\n",
              "      <th>2</th>\n",
              "      <td>3801</td>\n",
              "      <td>48753</td>\n",
              "      <td>Vagabonds</td>\n",
              "      <td>16-03-2020</td>\n",
              "      <td>Coronavirus Australia: Woolworths to give elde...</td>\n",
              "      <td>Positive</td>\n",
              "    </tr>\n",
              "    <tr>\n",
              "      <th>3</th>\n",
              "      <td>3802</td>\n",
              "      <td>48754</td>\n",
              "      <td>NaN</td>\n",
              "      <td>16-03-2020</td>\n",
              "      <td>My food stock is not the only one which is emp...</td>\n",
              "      <td>Positive</td>\n",
              "    </tr>\n",
              "    <tr>\n",
              "      <th>4</th>\n",
              "      <td>3803</td>\n",
              "      <td>48755</td>\n",
              "      <td>NaN</td>\n",
              "      <td>16-03-2020</td>\n",
              "      <td>Me, ready to go at supermarket during the #COV...</td>\n",
              "      <td>Extremely Negative</td>\n",
              "    </tr>\n",
              "  </tbody>\n",
              "</table>\n",
              "</div>"
            ],
            "text/plain": [
              "   UserName  ...           Sentiment\n",
              "0      3799  ...             Neutral\n",
              "1      3800  ...            Positive\n",
              "2      3801  ...            Positive\n",
              "3      3802  ...            Positive\n",
              "4      3803  ...  Extremely Negative\n",
              "\n",
              "[5 rows x 6 columns]"
            ]
          },
          "metadata": {
            "tags": []
          },
          "execution_count": 4
        }
      ]
    },
    {
      "cell_type": "code",
      "metadata": {
        "id": "w_DB4i8qS9kh",
        "colab_type": "code",
        "colab": {
          "base_uri": "https://localhost:8080/",
          "height": 354
        },
        "outputId": "82af2d09-abe9-438e-daba-20f87fecb434"
      },
      "source": [
        "train_df['Sentiment'].value_counts().plot.bar();"
      ],
      "execution_count": null,
      "outputs": [
        {
          "output_type": "display_data",
          "data": {
            "image/png": "[encoded data removed]",
            "text/plain": [
              "<Figure size 432x288 with 1 Axes>"
            ]
          },
          "metadata": {
            "tags": [],
            "needs_background": "light"
          }
        }
      ]
    },
    {
      "cell_type": "code",
      "metadata": {
        "id": "64EzItdKQtU1",
        "colab_type": "code",
        "colab": {
          "base_uri": "https://localhost:8080/",
          "height": 313
        },
        "outputId": "2feac77c-c604-4a44-ae45-cc4a1f1647a9"
      },
      "source": [
        "train_df['TweetAt'].value_counts().plot.bar();"
      ],
      "execution_count": null,
      "outputs": [
        {
          "output_type": "display_data",
          "data": {
            "image/png": "[encoded data removed]",
            "text/plain": [
              "<Figure size 432x288 with 1 Axes>"
            ]
          },
          "metadata": {
            "tags": [],
            "needs_background": "light"
          }
        }
      ]
    },
    {
      "cell_type": "markdown",
      "metadata": {
        "id": "-dSPXOVmTnG_",
        "colab_type": "text"
      },
      "source": [
        "The data is a bit biased. We will take care of it after the preprocessing step, because some tweets get deleted as a whole during preprocessing"
      ]
    },
    {
      "cell_type": "markdown",
      "metadata": {
        "id": "cFN7IcsaSseq",
        "colab_type": "text"
      },
      "source": [
        "##0.3.Preprocess texts"
      ]
    },
    {
      "cell_type": "code",
      "metadata": {
        "id": "Hl8H4fjSSwAN",
        "colab_type": "code",
        "colab": {
          "base_uri": "https://localhost:8080/",
          "height": 70
        },
        "outputId": "270a79ac-10cf-4ec6-ff0b-f2e700be6b35"
      },
      "source": [
        "#Preprocess\n",
        "import re\n",
        "import string\n",
        "import nltk\n",
        "from nltk.corpus import stopwords\n",
        "from nltk.stem import PorterStemmer\n",
        "from nltk.tokenize import TweetTokenizer\n",
        "\n",
        "nltk.download('stopwords')"
      ],
      "execution_count": null,
      "outputs": [
        {
          "output_type": "stream",
          "text": [
            "[nltk_data] Downloading package stopwords to /root/nltk_data...\n",
            "[nltk_data]   Unzipping corpora/stopwords.zip.\n"
          ],
          "name": "stdout"
        },
        {
          "output_type": "execute_result",
          "data": {
            "text/plain": [
              "True"
            ]
          },
          "metadata": {
            "tags": []
          },
          "execution_count": 7
        }
      ]
    },
    {
      "cell_type": "code",
      "metadata": {
        "id": "Nkl4cp2lSwma",
        "colab_type": "code",
        "colab": {}
      },
      "source": [
        "def preprocess(text, stem=True, return_type='string'):\n",
        "    stemmer = PorterStemmer()\n",
        "    stopwords_english = stopwords.words('english')\n",
        "    # remove stock market tickers like $GE\n",
        "    text = re.sub(r'\\$\\w*', '', text)\n",
        "    # remove old style retweet text \"RT\"\n",
        "    text = re.sub(r'^RT[\\s]+', '', text)\n",
        "    # remove hyperlinks\n",
        "    text = re.sub(r'https?:\\/\\/.*[\\r\\n]*', '', text)\n",
        "    # remove hashtags\n",
        "    # only removing the hash # sign from the word\n",
        "    text = re.sub(r'#', '', text)\n",
        "    # tokenize tweets\n",
        "    tokenizer = TweetTokenizer(preserve_case=False, strip_handles=True,\n",
        "                               reduce_len=True)\n",
        "    text_tokens = tokenizer.tokenize(text)\n",
        "\n",
        "    texts_clean = []\n",
        "    for word in text_tokens:\n",
        "        if (word not in stopwords_english and  # remove stopwords\n",
        "                word not in string.punctuation):  # remove punctuation\n",
        "            \n",
        "            if stem:\n",
        "            # tweets_clean.append(word)\n",
        "                stem_word = stemmer.stem(word)  # stemming word\n",
        "                texts_clean.append(stem_word)\n",
        "            else : \n",
        "                texts_clean.append(word)\n",
        "                        \n",
        "\n",
        "    if return_type =='list':\n",
        "        return texts_clean\n",
        "    else:\n",
        "        return \" \".join(texts_clean)"
      ],
      "execution_count": null,
      "outputs": []
    },
    {
      "cell_type": "code",
      "metadata": {
        "id": "rJusGD9pSwou",
        "colab_type": "code",
        "colab": {
          "base_uri": "https://localhost:8080/",
          "height": 52
        },
        "outputId": "381d40f9-e077-42ec-ba39-c91e31112b9d"
      },
      "source": [
        "preprocessed = []\n",
        "disappeared_train = []\n",
        "for i, original_tweet in enumerate(tqdm(train_df['OriginalTweet'])):\n",
        "    processed_tweet = preprocess(original_tweet)\n",
        "    preprocessed.append(processed_tweet)\n",
        "    if not processed_tweet:\n",
        "        disappeared_train.append(i)\n",
        "\n",
        "train_df['PreprocessedTweet'] = preprocessed\n",
        "\n",
        "\n",
        "preprocessed = []\n",
        "disappeared_test = []\n",
        "for i, original_tweet in enumerate(tqdm(test_df['OriginalTweet'])):\n",
        "    processed_tweet = preprocess(original_tweet)\n",
        "    preprocessed.append(processed_tweet)\n",
        "    if not processed_tweet:\n",
        "        disappeared_test.append(i)\n",
        "\n",
        "test_df['PreprocessedTweet'] = preprocessed"
      ],
      "execution_count": null,
      "outputs": [
        {
          "output_type": "stream",
          "text": [
            "100%|██████████| 41157/41157 [00:26<00:00, 1568.42it/s]\n",
            "100%|██████████| 3798/3798 [00:02<00:00, 1457.07it/s]\n"
          ],
          "name": "stderr"
        }
      ]
    },
    {
      "cell_type": "code",
      "metadata": {
        "id": "i8666wsuLxxd",
        "colab_type": "code",
        "colab": {
          "base_uri": "https://localhost:8080/",
          "height": 197
        },
        "outputId": "69ed0cf0-ddb6-4d10-8432-67eebd41f95a"
      },
      "source": [
        "train_df.head()"
      ],
      "execution_count": null,
      "outputs": [
        {
          "output_type": "execute_result",
          "data": {
            "text/html": [
              "<div>\n",
              "<style scoped>\n",
              "    .dataframe tbody tr th:only-of-type {\n",
              "        vertical-align: middle;\n",
              "    }\n",
              "\n",
              "    .dataframe tbody tr th {\n",
              "        vertical-align: top;\n",
              "    }\n",
              "\n",
              "    .dataframe thead th {\n",
              "        text-align: right;\n",
              "    }\n",
              "</style>\n",
              "<table border=\"1\" class=\"dataframe\">\n",
              "  <thead>\n",
              "    <tr style=\"text-align: right;\">\n",
              "      <th></th>\n",
              "      <th>UserName</th>\n",
              "      <th>ScreenName</th>\n",
              "      <th>Location</th>\n",
              "      <th>TweetAt</th>\n",
              "      <th>OriginalTweet</th>\n",
              "      <th>Sentiment</th>\n",
              "      <th>PreprocessedTweet</th>\n",
              "    </tr>\n",
              "  </thead>\n",
              "  <tbody>\n",
              "    <tr>\n",
              "      <th>0</th>\n",
              "      <td>3799</td>\n",
              "      <td>48751</td>\n",
              "      <td>London</td>\n",
              "      <td>16-03-2020</td>\n",
              "      <td>@MeNyrbie @Phil_Gahan @Chrisitv https://t.co/i...</td>\n",
              "      <td>Neutral</td>\n",
              "      <td></td>\n",
              "    </tr>\n",
              "    <tr>\n",
              "      <th>1</th>\n",
              "      <td>3800</td>\n",
              "      <td>48752</td>\n",
              "      <td>UK</td>\n",
              "      <td>16-03-2020</td>\n",
              "      <td>advice Talk to your neighbours family to excha...</td>\n",
              "      <td>Positive</td>\n",
              "      <td>advic talk neighbour famili exchang phone numb...</td>\n",
              "    </tr>\n",
              "    <tr>\n",
              "      <th>2</th>\n",
              "      <td>3801</td>\n",
              "      <td>48753</td>\n",
              "      <td>Vagabonds</td>\n",
              "      <td>16-03-2020</td>\n",
              "      <td>Coronavirus Australia: Woolworths to give elde...</td>\n",
              "      <td>Positive</td>\n",
              "      <td>coronaviru australia woolworth give elderli di...</td>\n",
              "    </tr>\n",
              "    <tr>\n",
              "      <th>3</th>\n",
              "      <td>3802</td>\n",
              "      <td>48754</td>\n",
              "      <td>NaN</td>\n",
              "      <td>16-03-2020</td>\n",
              "      <td>My food stock is not the only one which is emp...</td>\n",
              "      <td>Positive</td>\n",
              "      <td>food stock one empti ... pleas panic enough fo...</td>\n",
              "    </tr>\n",
              "    <tr>\n",
              "      <th>4</th>\n",
              "      <td>3803</td>\n",
              "      <td>48755</td>\n",
              "      <td>NaN</td>\n",
              "      <td>16-03-2020</td>\n",
              "      <td>Me, ready to go at supermarket during the #COV...</td>\n",
              "      <td>Extremely Negative</td>\n",
              "      <td>readi go supermarket covid 19 outbreak i'm par...</td>\n",
              "    </tr>\n",
              "  </tbody>\n",
              "</table>\n",
              "</div>"
            ],
            "text/plain": [
              "   UserName  ...                                  PreprocessedTweet\n",
              "0      3799  ...                                                   \n",
              "1      3800  ...  advic talk neighbour famili exchang phone numb...\n",
              "2      3801  ...  coronaviru australia woolworth give elderli di...\n",
              "3      3802  ...  food stock one empti ... pleas panic enough fo...\n",
              "4      3803  ...  readi go supermarket covid 19 outbreak i'm par...\n",
              "\n",
              "[5 rows x 7 columns]"
            ]
          },
          "metadata": {
            "tags": []
          },
          "execution_count": 10
        }
      ]
    },
    {
      "cell_type": "code",
      "metadata": {
        "id": "SeHPzsYySwEW",
        "colab_type": "code",
        "colab": {}
      },
      "source": [
        "train_df = train_df.drop(disappeared_train)\n",
        "test_df = test_df.drop(disappeared_test)"
      ],
      "execution_count": null,
      "outputs": []
    },
    {
      "cell_type": "code",
      "metadata": {
        "id": "GRrSRQ3fWnOr",
        "colab_type": "code",
        "colab": {
          "base_uri": "https://localhost:8080/",
          "height": 52
        },
        "outputId": "f1b343e2-242e-4dd8-c3a8-fc4dae925e5c"
      },
      "source": [
        "print(train_df.shape)\n",
        "print(test_df.shape)"
      ],
      "execution_count": null,
      "outputs": [
        {
          "output_type": "stream",
          "text": [
            "(41044, 7)\n",
            "(3793, 7)\n"
          ],
          "name": "stdout"
        }
      ]
    },
    {
      "cell_type": "markdown",
      "metadata": {
        "id": "2o7C0k9-VY7L",
        "colab_type": "text"
      },
      "source": [
        "##0.4.Addressing imbalance"
      ]
    },
    {
      "cell_type": "code",
      "metadata": {
        "id": "MSBCeITsSv8M",
        "colab_type": "code",
        "colab": {
          "base_uri": "https://localhost:8080/",
          "height": 107
        },
        "outputId": "07b7582d-9e98-4472-f827-888d6c149090"
      },
      "source": [
        "## Could use ADASYN or SMOTE but to do so, need to compute word embeddings beforehand. This complicates things, so for now, just do a randomoversampler\n",
        "from imblearn.over_sampling import RandomOverSampler"
      ],
      "execution_count": null,
      "outputs": [
        {
          "output_type": "stream",
          "text": [
            "/usr/local/lib/python3.6/dist-packages/sklearn/externals/six.py:31: FutureWarning: The module is deprecated in version 0.21 and will be removed in version 0.23 since we've dropped support for Python 2.7. Please rely on the official version of six (https://pypi.org/project/six/).\n",
            "  \"(https://pypi.org/project/six/).\", FutureWarning)\n",
            "/usr/local/lib/python3.6/dist-packages/sklearn/utils/deprecation.py:144: FutureWarning: The sklearn.neighbors.base module is  deprecated in version 0.22 and will be removed in version 0.24. The corresponding classes / functions should instead be imported from sklearn.neighbors. Anything that cannot be imported from sklearn.neighbors is now part of the private API.\n",
            "  warnings.warn(message, FutureWarning)\n"
          ],
          "name": "stderr"
        }
      ]
    },
    {
      "cell_type": "code",
      "metadata": {
        "id": "u10xqoKKV1na",
        "colab_type": "code",
        "colab": {
          "base_uri": "https://localhost:8080/",
          "height": 52
        },
        "outputId": "5b5607b3-0510-46c8-f311-10e8d18c4652"
      },
      "source": [
        "train_x, train_y = RandomOverSampler(random_state=0).fit_sample(np.reshape(train_df['PreprocessedTweet'].values, (-1,1)),\n",
        "                                                                           train_df['Sentiment'].values)"
      ],
      "execution_count": null,
      "outputs": [
        {
          "output_type": "stream",
          "text": [
            "/usr/local/lib/python3.6/dist-packages/sklearn/utils/deprecation.py:87: FutureWarning: Function safe_indexing is deprecated; safe_indexing is deprecated in version 0.22 and will be removed in version 0.24.\n",
            "  warnings.warn(msg, category=FutureWarning)\n"
          ],
          "name": "stderr"
        }
      ]
    },
    {
      "cell_type": "code",
      "metadata": {
        "id": "00TAVRw-aRsH",
        "colab_type": "code",
        "colab": {
          "base_uri": "https://localhost:8080/",
          "height": 52
        },
        "outputId": "a034461d-ccc7-4a63-d0e5-c03fbe27eb3c"
      },
      "source": [
        "train_x = train_x.flatten()\n",
        "print(train_x.shape)\n",
        "print(train_y.shape)"
      ],
      "execution_count": null,
      "outputs": [
        {
          "output_type": "stream",
          "text": [
            "(56985,)\n",
            "(56985,)\n"
          ],
          "name": "stdout"
        }
      ]
    },
    {
      "cell_type": "code",
      "metadata": {
        "id": "ZIWKcaz3hPnr",
        "colab_type": "code",
        "colab": {}
      },
      "source": [
        "test_x = test_df['PreprocessedTweet'].values\n",
        "test_y = test_df['Sentiment'].values"
      ],
      "execution_count": null,
      "outputs": []
    },
    {
      "cell_type": "code",
      "metadata": {
        "id": "gGrr_HE_V1kR",
        "colab_type": "code",
        "colab": {
          "base_uri": "https://localhost:8080/",
          "height": 354
        },
        "outputId": "0254592b-228f-4c9f-e435-81c1844425d2"
      },
      "source": [
        "u, c = np.unique(train_y, return_counts=True)\n",
        "plt.bar(u,c)\n",
        "plt.xticks(u, rotation='vertical');"
      ],
      "execution_count": null,
      "outputs": [
        {
          "output_type": "display_data",
          "data": {
            "image/png": "[encoded data removed]",
            "text/plain": [
              "<Figure size 432x288 with 1 Axes>"
            ]
          },
          "metadata": {
            "tags": [],
            "needs_background": "light"
          }
        }
      ]
    },
    {
      "cell_type": "markdown",
      "metadata": {
        "id": "CF-hktw3R-2l",
        "colab_type": "text"
      },
      "source": [
        "#1.Word Embeddings"
      ]
    },
    {
      "cell_type": "code",
      "metadata": {
        "id": "DFIKAm8pZxjH",
        "colab_type": "code",
        "colab": {}
      },
      "source": [
        "# Word2vec\n",
        "import gensim\n",
        "from gensim.models import Word2Vec\n",
        "\n",
        "from keras.preprocessing.text import Tokenizer"
      ],
      "execution_count": null,
      "outputs": []
    },
    {
      "cell_type": "code",
      "metadata": {
        "id": "MHKxPQuUZMTe",
        "colab_type": "code",
        "colab": {}
      },
      "source": [
        "# WORD2VEC \n",
        "W2V_SIZE = 300\n",
        "W2V_WINDOW = 7\n",
        "W2V_EPOCH = 32\n",
        "W2V_MIN_COUNT = 10"
      ],
      "execution_count": null,
      "outputs": []
    },
    {
      "cell_type": "markdown",
      "metadata": {
        "id": "b_fCcqrpchTP",
        "colab_type": "text"
      },
      "source": [
        "##1.1.Compute word2vec"
      ]
    },
    {
      "cell_type": "markdown",
      "metadata": {
        "id": "9UD4-BLOjsEt",
        "colab_type": "text"
      },
      "source": [
        "###1.1.0 Download existing model"
      ]
    },
    {
      "cell_type": "code",
      "metadata": {
        "id": "ripgjYrRjwfi",
        "colab_type": "code",
        "colab": {}
      },
      "source": [
        "!cp '/content/drive/My Drive/2.Projects/Covid Tweet Sentiment Classification/models/covid_tweet_w2v.model' word2vec.model"
      ],
      "execution_count": null,
      "outputs": []
    },
    {
      "cell_type": "code",
      "metadata": {
        "id": "Fd51W8SkjwiX",
        "colab_type": "code",
        "colab": {
          "base_uri": "https://localhost:8080/",
          "height": 72
        },
        "outputId": "b9b412fa-3d92-4aac-8922-d94ab54c614a"
      },
      "source": [
        "w2v_model = Word2Vec.load(\"word2vec.model\")"
      ],
      "execution_count": null,
      "outputs": [
        {
          "output_type": "stream",
          "text": [
            "/usr/local/lib/python3.6/dist-packages/smart_open/smart_open_lib.py:254: UserWarning: This function is deprecated, use smart_open.open instead. See the migration notes for details: https://github.com/RaRe-Technologies/smart_open/blob/master/README.rst#migrating-to-the-new-open-function\n",
            "  'See the migration notes for details: %s' % _MIGRATION_NOTES_URL\n"
          ],
          "name": "stderr"
        }
      ]
    },
    {
      "cell_type": "markdown",
      "metadata": {
        "id": "p222XeC1j_qQ",
        "colab_type": "text"
      },
      "source": [
        "###1.1.1.Or Compute"
      ]
    },
    {
      "cell_type": "code",
      "metadata": {
        "id": "GT17WAtGZ0Hc",
        "colab_type": "code",
        "colab": {}
      },
      "source": [
        "documents = [text.split() for text in train_x]"
      ],
      "execution_count": null,
      "outputs": []
    },
    {
      "cell_type": "code",
      "metadata": {
        "id": "aJMR_ICuaAyk",
        "colab_type": "code",
        "colab": {}
      },
      "source": [
        "w2v_model = gensim.models.word2vec.Word2Vec(size=W2V_SIZE, \n",
        "                                            window=W2V_WINDOW, \n",
        "                                            min_count=W2V_MIN_COUNT, \n",
        "                                            workers=8)"
      ],
      "execution_count": null,
      "outputs": []
    },
    {
      "cell_type": "code",
      "metadata": {
        "id": "9deOjGP5ab6c",
        "colab_type": "code",
        "colab": {
          "base_uri": "https://localhost:8080/",
          "height": 310
        },
        "outputId": "6f7d2627-2c38-4f2a-e948-cea7139db86c"
      },
      "source": [
        "w2v_model.build_vocab(documents)"
      ],
      "execution_count": null,
      "outputs": [
        {
          "output_type": "stream",
          "text": [
            "2020-09-14 16:19:31,440 : INFO : collecting all words and their counts\n",
            "2020-09-14 16:19:31,442 : INFO : PROGRESS: at sentence #0, processed 0 words, keeping 0 word types\n",
            "2020-09-14 16:19:31,495 : INFO : PROGRESS: at sentence #10000, processed 192481 words, keeping 15566 word types\n",
            "2020-09-14 16:19:31,546 : INFO : PROGRESS: at sentence #20000, processed 380810 words, keeping 24208 word types\n",
            "2020-09-14 16:19:31,596 : INFO : PROGRESS: at sentence #30000, processed 565157 words, keeping 31520 word types\n",
            "2020-09-14 16:19:31,647 : INFO : PROGRESS: at sentence #40000, processed 749170 words, keeping 38309 word types\n",
            "2020-09-14 16:19:31,703 : INFO : PROGRESS: at sentence #50000, processed 957310 words, keeping 39000 word types\n",
            "2020-09-14 16:19:31,738 : INFO : collected 39000 word types from a corpus of 1077096 raw words and 56985 sentences\n",
            "2020-09-14 16:19:31,739 : INFO : Loading a fresh vocabulary\n",
            "2020-09-14 16:19:31,767 : INFO : effective_min_count=10 retains 6335 unique words (16% of original 39000, drops 32665)\n",
            "2020-09-14 16:19:31,768 : INFO : effective_min_count=10 leaves 1004351 word corpus (93% of original 1077096, drops 72745)\n",
            "2020-09-14 16:19:31,792 : INFO : deleting the raw counts dictionary of 39000 items\n",
            "2020-09-14 16:19:31,793 : INFO : sample=0.001 downsamples 38 most-common words\n",
            "2020-09-14 16:19:31,794 : INFO : downsampling leaves estimated 870812 word corpus (86.7% of prior 1004351)\n",
            "2020-09-14 16:19:31,819 : INFO : estimated required memory for 6335 words and 300 dimensions: 18371500 bytes\n",
            "2020-09-14 16:19:31,821 : INFO : resetting layer weights\n"
          ],
          "name": "stderr"
        }
      ]
    },
    {
      "cell_type": "code",
      "metadata": {
        "id": "4t-niACaaiG9",
        "colab_type": "code",
        "colab": {
          "base_uri": "https://localhost:8080/",
          "height": 35
        },
        "outputId": "715d9d0d-461b-4298-9e31-f1d24ae48fc9"
      },
      "source": [
        "words = w2v_model.wv.vocab.keys()\n",
        "vocab_size = len(words)\n",
        "print(\"Vocab size\", vocab_size)"
      ],
      "execution_count": null,
      "outputs": [
        {
          "output_type": "stream",
          "text": [
            "Vocab size 6335\n"
          ],
          "name": "stdout"
        }
      ]
    },
    {
      "cell_type": "code",
      "metadata": {
        "id": "ycYAwn7maicp",
        "colab_type": "code",
        "colab": {
          "base_uri": "https://localhost:8080/",
          "height": 1000
        },
        "outputId": "0ff852b6-76c6-41cc-c56e-268f8a156690"
      },
      "source": [
        "%%time\n",
        "w2v_model.train(documents, total_examples=len(documents), epochs=W2V_EPOCH)"
      ],
      "execution_count": null,
      "outputs": [
        {
          "output_type": "stream",
          "text": [
            "2020-09-14 16:20:16,302 : INFO : training model with 8 workers on 6335 vocabulary and 300 features, using sg=0 hs=0 sample=0.001 negative=5 window=7\n",
            "2020-09-14 16:20:17,347 : INFO : EPOCH 1 - PROGRESS: at 75.41% examples, 634859 words/s, in_qsize 14, out_qsize 1\n",
            "2020-09-14 16:20:17,562 : INFO : worker thread finished; awaiting finish of 7 more threads\n",
            "2020-09-14 16:20:17,577 : INFO : worker thread finished; awaiting finish of 6 more threads\n",
            "2020-09-14 16:20:17,592 : INFO : worker thread finished; awaiting finish of 5 more threads\n",
            "2020-09-14 16:20:17,595 : INFO : worker thread finished; awaiting finish of 4 more threads\n",
            "2020-09-14 16:20:17,600 : INFO : worker thread finished; awaiting finish of 3 more threads\n",
            "2020-09-14 16:20:17,603 : INFO : worker thread finished; awaiting finish of 2 more threads\n",
            "2020-09-14 16:20:17,608 : INFO : worker thread finished; awaiting finish of 1 more threads\n",
            "2020-09-14 16:20:17,612 : INFO : worker thread finished; awaiting finish of 0 more threads\n",
            "2020-09-14 16:20:17,613 : INFO : EPOCH - 1 : training on 1077096 raw words (870738 effective words) took 1.3s, 672857 effective words/s\n",
            "2020-09-14 16:20:18,638 : INFO : EPOCH 2 - PROGRESS: at 77.09% examples, 659178 words/s, in_qsize 15, out_qsize 0\n",
            "2020-09-14 16:20:18,872 : INFO : worker thread finished; awaiting finish of 7 more threads\n",
            "2020-09-14 16:20:18,890 : INFO : worker thread finished; awaiting finish of 6 more threads\n",
            "2020-09-14 16:20:18,893 : INFO : worker thread finished; awaiting finish of 5 more threads\n",
            "2020-09-14 16:20:18,905 : INFO : worker thread finished; awaiting finish of 4 more threads\n",
            "2020-09-14 16:20:18,918 : INFO : worker thread finished; awaiting finish of 3 more threads\n",
            "2020-09-14 16:20:18,927 : INFO : worker thread finished; awaiting finish of 2 more threads\n",
            "2020-09-14 16:20:18,934 : INFO : worker thread finished; awaiting finish of 1 more threads\n",
            "2020-09-14 16:20:18,937 : INFO : worker thread finished; awaiting finish of 0 more threads\n",
            "2020-09-14 16:20:18,938 : INFO : EPOCH - 2 : training on 1077096 raw words (871002 effective words) took 1.3s, 662209 effective words/s\n",
            "2020-09-14 16:20:19,958 : INFO : EPOCH 3 - PROGRESS: at 72.07% examples, 614298 words/s, in_qsize 15, out_qsize 0\n",
            "2020-09-14 16:20:20,229 : INFO : worker thread finished; awaiting finish of 7 more threads\n",
            "2020-09-14 16:20:20,235 : INFO : worker thread finished; awaiting finish of 6 more threads\n",
            "2020-09-14 16:20:20,249 : INFO : worker thread finished; awaiting finish of 5 more threads\n",
            "2020-09-14 16:20:20,265 : INFO : worker thread finished; awaiting finish of 4 more threads\n",
            "2020-09-14 16:20:20,272 : INFO : worker thread finished; awaiting finish of 3 more threads\n",
            "2020-09-14 16:20:20,273 : INFO : worker thread finished; awaiting finish of 2 more threads\n",
            "2020-09-14 16:20:20,279 : INFO : worker thread finished; awaiting finish of 1 more threads\n",
            "2020-09-14 16:20:20,283 : INFO : worker thread finished; awaiting finish of 0 more threads\n",
            "2020-09-14 16:20:20,284 : INFO : EPOCH - 3 : training on 1077096 raw words (870668 effective words) took 1.3s, 652417 effective words/s\n",
            "2020-09-14 16:20:21,305 : INFO : EPOCH 4 - PROGRESS: at 72.91% examples, 621648 words/s, in_qsize 15, out_qsize 0\n",
            "2020-09-14 16:20:21,604 : INFO : worker thread finished; awaiting finish of 7 more threads\n",
            "2020-09-14 16:20:21,624 : INFO : worker thread finished; awaiting finish of 6 more threads\n",
            "2020-09-14 16:20:21,632 : INFO : worker thread finished; awaiting finish of 5 more threads\n",
            "2020-09-14 16:20:21,638 : INFO : worker thread finished; awaiting finish of 4 more threads\n",
            "2020-09-14 16:20:21,644 : INFO : worker thread finished; awaiting finish of 3 more threads\n",
            "2020-09-14 16:20:21,646 : INFO : worker thread finished; awaiting finish of 2 more threads\n",
            "2020-09-14 16:20:21,648 : INFO : worker thread finished; awaiting finish of 1 more threads\n",
            "2020-09-14 16:20:21,656 : INFO : worker thread finished; awaiting finish of 0 more threads\n",
            "2020-09-14 16:20:21,657 : INFO : EPOCH - 4 : training on 1077096 raw words (870747 effective words) took 1.4s, 638889 effective words/s\n",
            "2020-09-14 16:20:22,676 : INFO : EPOCH 5 - PROGRESS: at 71.87% examples, 615757 words/s, in_qsize 15, out_qsize 0\n",
            "2020-09-14 16:20:22,961 : INFO : worker thread finished; awaiting finish of 7 more threads\n",
            "2020-09-14 16:20:22,977 : INFO : worker thread finished; awaiting finish of 6 more threads\n",
            "2020-09-14 16:20:22,987 : INFO : worker thread finished; awaiting finish of 5 more threads\n",
            "2020-09-14 16:20:22,992 : INFO : worker thread finished; awaiting finish of 4 more threads\n",
            "2020-09-14 16:20:22,993 : INFO : worker thread finished; awaiting finish of 3 more threads\n",
            "2020-09-14 16:20:22,997 : INFO : worker thread finished; awaiting finish of 2 more threads\n",
            "2020-09-14 16:20:23,003 : INFO : worker thread finished; awaiting finish of 1 more threads\n",
            "2020-09-14 16:20:23,008 : INFO : worker thread finished; awaiting finish of 0 more threads\n",
            "2020-09-14 16:20:23,009 : INFO : EPOCH - 5 : training on 1077096 raw words (871039 effective words) took 1.3s, 649341 effective words/s\n",
            "2020-09-14 16:20:24,032 : INFO : EPOCH 6 - PROGRESS: at 73.72% examples, 628840 words/s, in_qsize 13, out_qsize 4\n",
            "2020-09-14 16:20:24,284 : INFO : worker thread finished; awaiting finish of 7 more threads\n",
            "2020-09-14 16:20:24,289 : INFO : worker thread finished; awaiting finish of 6 more threads\n",
            "2020-09-14 16:20:24,291 : INFO : worker thread finished; awaiting finish of 5 more threads\n",
            "2020-09-14 16:20:24,299 : INFO : worker thread finished; awaiting finish of 4 more threads\n",
            "2020-09-14 16:20:24,308 : INFO : worker thread finished; awaiting finish of 3 more threads\n",
            "2020-09-14 16:20:24,310 : INFO : worker thread finished; awaiting finish of 2 more threads\n",
            "2020-09-14 16:20:24,321 : INFO : worker thread finished; awaiting finish of 1 more threads\n",
            "2020-09-14 16:20:24,326 : INFO : worker thread finished; awaiting finish of 0 more threads\n",
            "2020-09-14 16:20:24,327 : INFO : EPOCH - 6 : training on 1077096 raw words (870498 effective words) took 1.3s, 666195 effective words/s\n",
            "2020-09-14 16:20:25,370 : INFO : EPOCH 7 - PROGRESS: at 72.89% examples, 610286 words/s, in_qsize 15, out_qsize 0\n",
            "2020-09-14 16:20:25,623 : INFO : worker thread finished; awaiting finish of 7 more threads\n",
            "2020-09-14 16:20:25,625 : INFO : worker thread finished; awaiting finish of 6 more threads\n",
            "2020-09-14 16:20:25,644 : INFO : worker thread finished; awaiting finish of 5 more threads\n",
            "2020-09-14 16:20:25,646 : INFO : worker thread finished; awaiting finish of 4 more threads\n",
            "2020-09-14 16:20:25,651 : INFO : worker thread finished; awaiting finish of 3 more threads\n",
            "2020-09-14 16:20:25,652 : INFO : worker thread finished; awaiting finish of 2 more threads\n",
            "2020-09-14 16:20:25,656 : INFO : worker thread finished; awaiting finish of 1 more threads\n",
            "2020-09-14 16:20:25,663 : INFO : worker thread finished; awaiting finish of 0 more threads\n",
            "2020-09-14 16:20:25,664 : INFO : EPOCH - 7 : training on 1077096 raw words (870930 effective words) took 1.3s, 657981 effective words/s\n",
            "2020-09-14 16:20:26,676 : INFO : EPOCH 8 - PROGRESS: at 72.79% examples, 628065 words/s, in_qsize 16, out_qsize 3\n",
            "2020-09-14 16:20:26,919 : INFO : worker thread finished; awaiting finish of 7 more threads\n",
            "2020-09-14 16:20:26,935 : INFO : worker thread finished; awaiting finish of 6 more threads\n",
            "2020-09-14 16:20:26,937 : INFO : worker thread finished; awaiting finish of 5 more threads\n",
            "2020-09-14 16:20:26,938 : INFO : worker thread finished; awaiting finish of 4 more threads\n",
            "2020-09-14 16:20:26,944 : INFO : worker thread finished; awaiting finish of 3 more threads\n",
            "2020-09-14 16:20:26,956 : INFO : worker thread finished; awaiting finish of 2 more threads\n",
            "2020-09-14 16:20:26,957 : INFO : worker thread finished; awaiting finish of 1 more threads\n",
            "2020-09-14 16:20:26,964 : INFO : worker thread finished; awaiting finish of 0 more threads\n",
            "2020-09-14 16:20:26,965 : INFO : EPOCH - 8 : training on 1077096 raw words (870440 effective words) took 1.3s, 675349 effective words/s\n",
            "2020-09-14 16:20:28,005 : INFO : EPOCH 9 - PROGRESS: at 77.08% examples, 649796 words/s, in_qsize 15, out_qsize 0\n",
            "2020-09-14 16:20:28,209 : INFO : worker thread finished; awaiting finish of 7 more threads\n",
            "2020-09-14 16:20:28,211 : INFO : worker thread finished; awaiting finish of 6 more threads\n",
            "2020-09-14 16:20:28,222 : INFO : worker thread finished; awaiting finish of 5 more threads\n",
            "2020-09-14 16:20:28,241 : INFO : worker thread finished; awaiting finish of 4 more threads\n",
            "2020-09-14 16:20:28,248 : INFO : worker thread finished; awaiting finish of 3 more threads\n",
            "2020-09-14 16:20:28,252 : INFO : worker thread finished; awaiting finish of 2 more threads\n",
            "2020-09-14 16:20:28,260 : INFO : worker thread finished; awaiting finish of 1 more threads\n",
            "2020-09-14 16:20:28,267 : INFO : worker thread finished; awaiting finish of 0 more threads\n",
            "2020-09-14 16:20:28,268 : INFO : EPOCH - 9 : training on 1077096 raw words (870772 effective words) took 1.3s, 673642 effective words/s\n",
            "2020-09-14 16:20:29,287 : INFO : EPOCH 10 - PROGRESS: at 76.25% examples, 655219 words/s, in_qsize 15, out_qsize 0\n",
            "2020-09-14 16:20:29,480 : INFO : worker thread finished; awaiting finish of 7 more threads\n",
            "2020-09-14 16:20:29,505 : INFO : worker thread finished; awaiting finish of 6 more threads\n",
            "2020-09-14 16:20:29,512 : INFO : worker thread finished; awaiting finish of 5 more threads\n",
            "2020-09-14 16:20:29,516 : INFO : worker thread finished; awaiting finish of 4 more threads\n",
            "2020-09-14 16:20:29,536 : INFO : worker thread finished; awaiting finish of 3 more threads\n",
            "2020-09-14 16:20:29,538 : INFO : worker thread finished; awaiting finish of 2 more threads\n",
            "2020-09-14 16:20:29,546 : INFO : worker thread finished; awaiting finish of 1 more threads\n",
            "2020-09-14 16:20:29,549 : INFO : worker thread finished; awaiting finish of 0 more threads\n",
            "2020-09-14 16:20:29,550 : INFO : EPOCH - 10 : training on 1077096 raw words (870964 effective words) took 1.3s, 684910 effective words/s\n",
            "2020-09-14 16:20:30,592 : INFO : EPOCH 11 - PROGRESS: at 75.41% examples, 632505 words/s, in_qsize 15, out_qsize 0\n",
            "2020-09-14 16:20:30,874 : INFO : worker thread finished; awaiting finish of 7 more threads\n",
            "2020-09-14 16:20:30,883 : INFO : worker thread finished; awaiting finish of 6 more threads\n",
            "2020-09-14 16:20:30,885 : INFO : worker thread finished; awaiting finish of 5 more threads\n",
            "2020-09-14 16:20:30,886 : INFO : worker thread finished; awaiting finish of 4 more threads\n",
            "2020-09-14 16:20:30,891 : INFO : worker thread finished; awaiting finish of 3 more threads\n",
            "2020-09-14 16:20:30,892 : INFO : worker thread finished; awaiting finish of 2 more threads\n",
            "2020-09-14 16:20:30,898 : INFO : worker thread finished; awaiting finish of 1 more threads\n",
            "2020-09-14 16:20:30,912 : INFO : worker thread finished; awaiting finish of 0 more threads\n",
            "2020-09-14 16:20:30,913 : INFO : EPOCH - 11 : training on 1077096 raw words (870792 effective words) took 1.4s, 643773 effective words/s\n",
            "2020-09-14 16:20:31,938 : INFO : EPOCH 12 - PROGRESS: at 72.79% examples, 620285 words/s, in_qsize 15, out_qsize 1\n",
            "2020-09-14 16:20:32,205 : INFO : worker thread finished; awaiting finish of 7 more threads\n",
            "2020-09-14 16:20:32,207 : INFO : worker thread finished; awaiting finish of 6 more threads\n",
            "2020-09-14 16:20:32,213 : INFO : worker thread finished; awaiting finish of 5 more threads\n",
            "2020-09-14 16:20:32,228 : INFO : worker thread finished; awaiting finish of 4 more threads\n",
            "2020-09-14 16:20:32,235 : INFO : worker thread finished; awaiting finish of 3 more threads\n",
            "2020-09-14 16:20:32,237 : INFO : worker thread finished; awaiting finish of 2 more threads\n",
            "2020-09-14 16:20:32,238 : INFO : worker thread finished; awaiting finish of 1 more threads\n",
            "2020-09-14 16:20:32,239 : INFO : worker thread finished; awaiting finish of 0 more threads\n",
            "2020-09-14 16:20:32,241 : INFO : EPOCH - 12 : training on 1077096 raw words (871034 effective words) took 1.3s, 661504 effective words/s\n",
            "2020-09-14 16:20:33,258 : INFO : EPOCH 13 - PROGRESS: at 72.80% examples, 625508 words/s, in_qsize 16, out_qsize 1\n",
            "2020-09-14 16:20:33,502 : INFO : worker thread finished; awaiting finish of 7 more threads\n",
            "2020-09-14 16:20:33,509 : INFO : worker thread finished; awaiting finish of 6 more threads\n",
            "2020-09-14 16:20:33,522 : INFO : worker thread finished; awaiting finish of 5 more threads\n",
            "2020-09-14 16:20:33,523 : INFO : worker thread finished; awaiting finish of 4 more threads\n",
            "2020-09-14 16:20:33,544 : INFO : worker thread finished; awaiting finish of 3 more threads\n",
            "2020-09-14 16:20:33,552 : INFO : worker thread finished; awaiting finish of 2 more threads\n",
            "2020-09-14 16:20:33,554 : INFO : worker thread finished; awaiting finish of 1 more threads\n",
            "2020-09-14 16:20:33,556 : INFO : worker thread finished; awaiting finish of 0 more threads\n",
            "2020-09-14 16:20:33,558 : INFO : EPOCH - 13 : training on 1077096 raw words (870934 effective words) took 1.3s, 667694 effective words/s\n",
            "2020-09-14 16:20:34,572 : INFO : EPOCH 14 - PROGRESS: at 75.42% examples, 650634 words/s, in_qsize 15, out_qsize 0\n",
            "2020-09-14 16:20:34,823 : INFO : worker thread finished; awaiting finish of 7 more threads\n",
            "2020-09-14 16:20:34,828 : INFO : worker thread finished; awaiting finish of 6 more threads\n",
            "2020-09-14 16:20:34,862 : INFO : worker thread finished; awaiting finish of 5 more threads\n",
            "2020-09-14 16:20:34,864 : INFO : worker thread finished; awaiting finish of 4 more threads\n",
            "2020-09-14 16:20:34,869 : INFO : worker thread finished; awaiting finish of 3 more threads\n",
            "2020-09-14 16:20:34,870 : INFO : worker thread finished; awaiting finish of 2 more threads\n",
            "2020-09-14 16:20:34,872 : INFO : worker thread finished; awaiting finish of 1 more threads\n",
            "2020-09-14 16:20:34,874 : INFO : worker thread finished; awaiting finish of 0 more threads\n",
            "2020-09-14 16:20:34,875 : INFO : EPOCH - 14 : training on 1077096 raw words (870663 effective words) took 1.3s, 666390 effective words/s\n",
            "2020-09-14 16:20:35,903 : INFO : EPOCH 15 - PROGRESS: at 77.93% examples, 669294 words/s, in_qsize 15, out_qsize 0\n",
            "2020-09-14 16:20:36,144 : INFO : worker thread finished; awaiting finish of 7 more threads\n",
            "2020-09-14 16:20:36,154 : INFO : worker thread finished; awaiting finish of 6 more threads\n",
            "2020-09-14 16:20:36,157 : INFO : worker thread finished; awaiting finish of 5 more threads\n",
            "2020-09-14 16:20:36,159 : INFO : worker thread finished; awaiting finish of 4 more threads\n",
            "2020-09-14 16:20:36,183 : INFO : worker thread finished; awaiting finish of 3 more threads\n",
            "2020-09-14 16:20:36,186 : INFO : worker thread finished; awaiting finish of 2 more threads\n",
            "2020-09-14 16:20:36,189 : INFO : worker thread finished; awaiting finish of 1 more threads\n",
            "2020-09-14 16:20:36,190 : INFO : worker thread finished; awaiting finish of 0 more threads\n",
            "2020-09-14 16:20:36,190 : INFO : EPOCH - 15 : training on 1077096 raw words (870567 effective words) took 1.3s, 669787 effective words/s\n",
            "2020-09-14 16:20:37,217 : INFO : EPOCH 16 - PROGRESS: at 71.95% examples, 611437 words/s, in_qsize 15, out_qsize 0\n",
            "2020-09-14 16:20:37,530 : INFO : worker thread finished; awaiting finish of 7 more threads\n",
            "2020-09-14 16:20:37,533 : INFO : worker thread finished; awaiting finish of 6 more threads\n",
            "2020-09-14 16:20:37,541 : INFO : worker thread finished; awaiting finish of 5 more threads\n",
            "2020-09-14 16:20:37,545 : INFO : worker thread finished; awaiting finish of 4 more threads\n",
            "2020-09-14 16:20:37,550 : INFO : worker thread finished; awaiting finish of 3 more threads\n",
            "2020-09-14 16:20:37,561 : INFO : worker thread finished; awaiting finish of 2 more threads\n",
            "2020-09-14 16:20:37,570 : INFO : worker thread finished; awaiting finish of 1 more threads\n",
            "2020-09-14 16:20:37,574 : INFO : worker thread finished; awaiting finish of 0 more threads\n",
            "2020-09-14 16:20:37,578 : INFO : EPOCH - 16 : training on 1077096 raw words (870434 effective words) took 1.4s, 632952 effective words/s\n",
            "2020-09-14 16:20:38,606 : INFO : EPOCH 17 - PROGRESS: at 72.78% examples, 618713 words/s, in_qsize 15, out_qsize 0\n",
            "2020-09-14 16:20:38,870 : INFO : worker thread finished; awaiting finish of 7 more threads\n",
            "2020-09-14 16:20:38,897 : INFO : worker thread finished; awaiting finish of 6 more threads\n",
            "2020-09-14 16:20:38,904 : INFO : worker thread finished; awaiting finish of 5 more threads\n",
            "2020-09-14 16:20:38,914 : INFO : worker thread finished; awaiting finish of 4 more threads\n",
            "2020-09-14 16:20:38,919 : INFO : worker thread finished; awaiting finish of 3 more threads\n",
            "2020-09-14 16:20:38,926 : INFO : worker thread finished; awaiting finish of 2 more threads\n",
            "2020-09-14 16:20:38,928 : INFO : worker thread finished; awaiting finish of 1 more threads\n",
            "2020-09-14 16:20:38,935 : INFO : worker thread finished; awaiting finish of 0 more threads\n",
            "2020-09-14 16:20:38,936 : INFO : EPOCH - 17 : training on 1077096 raw words (870641 effective words) took 1.3s, 647089 effective words/s\n",
            "2020-09-14 16:20:39,969 : INFO : EPOCH 18 - PROGRESS: at 78.76% examples, 670552 words/s, in_qsize 15, out_qsize 0\n",
            "2020-09-14 16:20:40,155 : INFO : worker thread finished; awaiting finish of 7 more threads\n",
            "2020-09-14 16:20:40,157 : INFO : worker thread finished; awaiting finish of 6 more threads\n",
            "2020-09-14 16:20:40,181 : INFO : worker thread finished; awaiting finish of 5 more threads\n",
            "2020-09-14 16:20:40,192 : INFO : worker thread finished; awaiting finish of 4 more threads\n",
            "2020-09-14 16:20:40,206 : INFO : worker thread finished; awaiting finish of 3 more threads\n",
            "2020-09-14 16:20:40,214 : INFO : worker thread finished; awaiting finish of 2 more threads\n",
            "2020-09-14 16:20:40,215 : INFO : worker thread finished; awaiting finish of 1 more threads\n",
            "2020-09-14 16:20:40,219 : INFO : worker thread finished; awaiting finish of 0 more threads\n",
            "2020-09-14 16:20:40,220 : INFO : EPOCH - 18 : training on 1077096 raw words (870997 effective words) took 1.3s, 683881 effective words/s\n",
            "2020-09-14 16:20:41,240 : INFO : EPOCH 19 - PROGRESS: at 76.23% examples, 654249 words/s, in_qsize 15, out_qsize 0\n",
            "2020-09-14 16:20:41,469 : INFO : worker thread finished; awaiting finish of 7 more threads\n",
            "2020-09-14 16:20:41,471 : INFO : worker thread finished; awaiting finish of 6 more threads\n",
            "2020-09-14 16:20:41,472 : INFO : worker thread finished; awaiting finish of 5 more threads\n",
            "2020-09-14 16:20:41,474 : INFO : worker thread finished; awaiting finish of 4 more threads\n",
            "2020-09-14 16:20:41,476 : INFO : worker thread finished; awaiting finish of 3 more threads\n",
            "2020-09-14 16:20:41,477 : INFO : worker thread finished; awaiting finish of 2 more threads\n",
            "2020-09-14 16:20:41,481 : INFO : worker thread finished; awaiting finish of 1 more threads\n",
            "2020-09-14 16:20:41,491 : INFO : worker thread finished; awaiting finish of 0 more threads\n",
            "2020-09-14 16:20:41,492 : INFO : EPOCH - 19 : training on 1077096 raw words (870752 effective words) took 1.3s, 689791 effective words/s\n",
            "2020-09-14 16:20:42,529 : INFO : EPOCH 20 - PROGRESS: at 77.93% examples, 660349 words/s, in_qsize 15, out_qsize 0\n",
            "2020-09-14 16:20:42,674 : INFO : worker thread finished; awaiting finish of 7 more threads\n",
            "2020-09-14 16:20:42,700 : INFO : worker thread finished; awaiting finish of 6 more threads\n",
            "2020-09-14 16:20:42,713 : INFO : worker thread finished; awaiting finish of 5 more threads\n",
            "2020-09-14 16:20:42,716 : INFO : worker thread finished; awaiting finish of 4 more threads\n",
            "2020-09-14 16:20:42,734 : INFO : worker thread finished; awaiting finish of 3 more threads\n",
            "2020-09-14 16:20:42,735 : INFO : worker thread finished; awaiting finish of 2 more threads\n",
            "2020-09-14 16:20:42,750 : INFO : worker thread finished; awaiting finish of 1 more threads\n",
            "2020-09-14 16:20:42,753 : INFO : worker thread finished; awaiting finish of 0 more threads\n",
            "2020-09-14 16:20:42,754 : INFO : EPOCH - 20 : training on 1077096 raw words (870614 effective words) took 1.3s, 696080 effective words/s\n",
            "2020-09-14 16:20:43,828 : INFO : EPOCH 21 - PROGRESS: at 79.61% examples, 652315 words/s, in_qsize 16, out_qsize 0\n",
            "2020-09-14 16:20:43,967 : INFO : worker thread finished; awaiting finish of 7 more threads\n",
            "2020-09-14 16:20:43,970 : INFO : worker thread finished; awaiting finish of 6 more threads\n",
            "2020-09-14 16:20:43,987 : INFO : worker thread finished; awaiting finish of 5 more threads\n",
            "2020-09-14 16:20:43,999 : INFO : worker thread finished; awaiting finish of 4 more threads\n",
            "2020-09-14 16:20:44,003 : INFO : worker thread finished; awaiting finish of 3 more threads\n",
            "2020-09-14 16:20:44,005 : INFO : worker thread finished; awaiting finish of 2 more threads\n",
            "2020-09-14 16:20:44,006 : INFO : worker thread finished; awaiting finish of 1 more threads\n",
            "2020-09-14 16:20:44,011 : INFO : worker thread finished; awaiting finish of 0 more threads\n",
            "2020-09-14 16:20:44,012 : INFO : EPOCH - 21 : training on 1077096 raw words (871010 effective words) took 1.2s, 697891 effective words/s\n",
            "2020-09-14 16:20:45,036 : INFO : EPOCH 22 - PROGRESS: at 75.39% examples, 647245 words/s, in_qsize 16, out_qsize 0\n",
            "2020-09-14 16:20:45,259 : INFO : worker thread finished; awaiting finish of 7 more threads\n",
            "2020-09-14 16:20:45,278 : INFO : worker thread finished; awaiting finish of 6 more threads\n",
            "2020-09-14 16:20:45,292 : INFO : worker thread finished; awaiting finish of 5 more threads\n",
            "2020-09-14 16:20:45,305 : INFO : worker thread finished; awaiting finish of 4 more threads\n",
            "2020-09-14 16:20:45,316 : INFO : worker thread finished; awaiting finish of 3 more threads\n",
            "2020-09-14 16:20:45,320 : INFO : worker thread finished; awaiting finish of 2 more threads\n",
            "2020-09-14 16:20:45,327 : INFO : worker thread finished; awaiting finish of 1 more threads\n",
            "2020-09-14 16:20:45,329 : INFO : worker thread finished; awaiting finish of 0 more threads\n",
            "2020-09-14 16:20:45,330 : INFO : EPOCH - 22 : training on 1077096 raw words (871249 effective words) took 1.3s, 668402 effective words/s\n",
            "2020-09-14 16:20:46,352 : INFO : EPOCH 23 - PROGRESS: at 72.78% examples, 624212 words/s, in_qsize 16, out_qsize 2\n",
            "2020-09-14 16:20:46,647 : INFO : worker thread finished; awaiting finish of 7 more threads\n",
            "2020-09-14 16:20:46,654 : INFO : worker thread finished; awaiting finish of 6 more threads\n",
            "2020-09-14 16:20:46,657 : INFO : worker thread finished; awaiting finish of 5 more threads\n",
            "2020-09-14 16:20:46,659 : INFO : worker thread finished; awaiting finish of 4 more threads\n",
            "2020-09-14 16:20:46,661 : INFO : worker thread finished; awaiting finish of 3 more threads\n",
            "2020-09-14 16:20:46,664 : INFO : worker thread finished; awaiting finish of 2 more threads\n",
            "2020-09-14 16:20:46,672 : INFO : worker thread finished; awaiting finish of 1 more threads\n",
            "2020-09-14 16:20:46,675 : INFO : worker thread finished; awaiting finish of 0 more threads\n",
            "2020-09-14 16:20:46,676 : INFO : EPOCH - 23 : training on 1077096 raw words (870928 effective words) took 1.3s, 654461 effective words/s\n",
            "2020-09-14 16:20:47,714 : INFO : EPOCH 24 - PROGRESS: at 74.56% examples, 628122 words/s, in_qsize 15, out_qsize 0\n",
            "2020-09-14 16:20:47,974 : INFO : worker thread finished; awaiting finish of 7 more threads\n",
            "2020-09-14 16:20:47,976 : INFO : worker thread finished; awaiting finish of 6 more threads\n",
            "2020-09-14 16:20:47,998 : INFO : worker thread finished; awaiting finish of 5 more threads\n",
            "2020-09-14 16:20:48,014 : INFO : worker thread finished; awaiting finish of 4 more threads\n",
            "2020-09-14 16:20:48,021 : INFO : worker thread finished; awaiting finish of 3 more threads\n",
            "2020-09-14 16:20:48,023 : INFO : worker thread finished; awaiting finish of 2 more threads\n",
            "2020-09-14 16:20:48,026 : INFO : worker thread finished; awaiting finish of 1 more threads\n",
            "2020-09-14 16:20:48,028 : INFO : worker thread finished; awaiting finish of 0 more threads\n",
            "2020-09-14 16:20:48,029 : INFO : EPOCH - 24 : training on 1077096 raw words (870541 effective words) took 1.3s, 649045 effective words/s\n",
            "2020-09-14 16:20:49,063 : INFO : EPOCH 25 - PROGRESS: at 72.78% examples, 618777 words/s, in_qsize 16, out_qsize 3\n",
            "2020-09-14 16:20:49,331 : INFO : worker thread finished; awaiting finish of 7 more threads\n",
            "2020-09-14 16:20:49,339 : INFO : worker thread finished; awaiting finish of 6 more threads\n",
            "2020-09-14 16:20:49,340 : INFO : worker thread finished; awaiting finish of 5 more threads\n",
            "2020-09-14 16:20:49,342 : INFO : worker thread finished; awaiting finish of 4 more threads\n",
            "2020-09-14 16:20:49,357 : INFO : worker thread finished; awaiting finish of 3 more threads\n",
            "2020-09-14 16:20:49,362 : INFO : worker thread finished; awaiting finish of 2 more threads\n",
            "2020-09-14 16:20:49,371 : INFO : worker thread finished; awaiting finish of 1 more threads\n",
            "2020-09-14 16:20:49,378 : INFO : worker thread finished; awaiting finish of 0 more threads\n",
            "2020-09-14 16:20:49,379 : INFO : EPOCH - 25 : training on 1077096 raw words (871272 effective words) took 1.3s, 652086 effective words/s\n",
            "2020-09-14 16:20:50,392 : INFO : EPOCH 26 - PROGRESS: at 73.73% examples, 634786 words/s, in_qsize 15, out_qsize 0\n",
            "2020-09-14 16:20:50,655 : INFO : worker thread finished; awaiting finish of 7 more threads\n",
            "2020-09-14 16:20:50,670 : INFO : worker thread finished; awaiting finish of 6 more threads\n",
            "2020-09-14 16:20:50,682 : INFO : worker thread finished; awaiting finish of 5 more threads\n",
            "2020-09-14 16:20:50,687 : INFO : worker thread finished; awaiting finish of 4 more threads\n",
            "2020-09-14 16:20:50,699 : INFO : worker thread finished; awaiting finish of 3 more threads\n",
            "2020-09-14 16:20:50,706 : INFO : worker thread finished; awaiting finish of 2 more threads\n",
            "2020-09-14 16:20:50,712 : INFO : worker thread finished; awaiting finish of 1 more threads\n",
            "2020-09-14 16:20:50,721 : INFO : worker thread finished; awaiting finish of 0 more threads\n",
            "2020-09-14 16:20:50,722 : INFO : EPOCH - 26 : training on 1077096 raw words (870855 effective words) took 1.3s, 653494 effective words/s\n",
            "2020-09-14 16:20:51,778 : INFO : EPOCH 27 - PROGRESS: at 72.89% examples, 603178 words/s, in_qsize 15, out_qsize 0\n",
            "2020-09-14 16:20:52,035 : INFO : worker thread finished; awaiting finish of 7 more threads\n",
            "2020-09-14 16:20:52,056 : INFO : worker thread finished; awaiting finish of 6 more threads\n",
            "2020-09-14 16:20:52,061 : INFO : worker thread finished; awaiting finish of 5 more threads\n",
            "2020-09-14 16:20:52,077 : INFO : worker thread finished; awaiting finish of 4 more threads\n",
            "2020-09-14 16:20:52,080 : INFO : worker thread finished; awaiting finish of 3 more threads\n",
            "2020-09-14 16:20:52,082 : INFO : worker thread finished; awaiting finish of 2 more threads\n",
            "2020-09-14 16:20:52,093 : INFO : worker thread finished; awaiting finish of 1 more threads\n",
            "2020-09-14 16:20:52,097 : INFO : worker thread finished; awaiting finish of 0 more threads\n",
            "2020-09-14 16:20:52,099 : INFO : EPOCH - 27 : training on 1077096 raw words (870966 effective words) took 1.4s, 639474 effective words/s\n",
            "2020-09-14 16:20:53,115 : INFO : EPOCH 28 - PROGRESS: at 75.42% examples, 649855 words/s, in_qsize 14, out_qsize 1\n",
            "2020-09-14 16:20:53,380 : INFO : worker thread finished; awaiting finish of 7 more threads\n",
            "2020-09-14 16:20:53,381 : INFO : worker thread finished; awaiting finish of 6 more threads\n",
            "2020-09-14 16:20:53,382 : INFO : worker thread finished; awaiting finish of 5 more threads\n",
            "2020-09-14 16:20:53,404 : INFO : worker thread finished; awaiting finish of 4 more threads\n",
            "2020-09-14 16:20:53,407 : INFO : worker thread finished; awaiting finish of 3 more threads\n",
            "2020-09-14 16:20:53,410 : INFO : worker thread finished; awaiting finish of 2 more threads\n",
            "2020-09-14 16:20:53,416 : INFO : worker thread finished; awaiting finish of 1 more threads\n",
            "2020-09-14 16:20:53,417 : INFO : worker thread finished; awaiting finish of 0 more threads\n",
            "2020-09-14 16:20:53,418 : INFO : EPOCH - 28 : training on 1077096 raw words (870823 effective words) took 1.3s, 665663 effective words/s\n",
            "2020-09-14 16:20:54,431 : INFO : EPOCH 29 - PROGRESS: at 76.23% examples, 660241 words/s, in_qsize 14, out_qsize 1\n",
            "2020-09-14 16:20:54,660 : INFO : worker thread finished; awaiting finish of 7 more threads\n",
            "2020-09-14 16:20:54,674 : INFO : worker thread finished; awaiting finish of 6 more threads\n",
            "2020-09-14 16:20:54,679 : INFO : worker thread finished; awaiting finish of 5 more threads\n",
            "2020-09-14 16:20:54,680 : INFO : worker thread finished; awaiting finish of 4 more threads\n",
            "2020-09-14 16:20:54,685 : INFO : worker thread finished; awaiting finish of 3 more threads\n",
            "2020-09-14 16:20:54,689 : INFO : worker thread finished; awaiting finish of 2 more threads\n",
            "2020-09-14 16:20:54,693 : INFO : worker thread finished; awaiting finish of 1 more threads\n",
            "2020-09-14 16:20:54,695 : INFO : worker thread finished; awaiting finish of 0 more threads\n",
            "2020-09-14 16:20:54,696 : INFO : EPOCH - 29 : training on 1077096 raw words (870614 effective words) took 1.3s, 687900 effective words/s\n",
            "2020-09-14 16:20:55,733 : INFO : EPOCH 30 - PROGRESS: at 76.25% examples, 644961 words/s, in_qsize 15, out_qsize 0\n",
            "2020-09-14 16:20:55,972 : INFO : worker thread finished; awaiting finish of 7 more threads\n",
            "2020-09-14 16:20:55,974 : INFO : worker thread finished; awaiting finish of 6 more threads\n",
            "2020-09-14 16:20:55,976 : INFO : worker thread finished; awaiting finish of 5 more threads\n",
            "2020-09-14 16:20:55,984 : INFO : worker thread finished; awaiting finish of 4 more threads\n",
            "2020-09-14 16:20:55,986 : INFO : worker thread finished; awaiting finish of 3 more threads\n",
            "2020-09-14 16:20:55,988 : INFO : worker thread finished; awaiting finish of 2 more threads\n",
            "2020-09-14 16:20:56,000 : INFO : worker thread finished; awaiting finish of 1 more threads\n",
            "2020-09-14 16:20:56,005 : INFO : worker thread finished; awaiting finish of 0 more threads\n",
            "2020-09-14 16:20:56,006 : INFO : EPOCH - 30 : training on 1077096 raw words (870886 effective words) took 1.3s, 670883 effective words/s\n",
            "2020-09-14 16:20:57,020 : INFO : EPOCH 31 - PROGRESS: at 73.73% examples, 633784 words/s, in_qsize 14, out_qsize 1\n",
            "2020-09-14 16:20:57,254 : INFO : worker thread finished; awaiting finish of 7 more threads\n",
            "2020-09-14 16:20:57,276 : INFO : worker thread finished; awaiting finish of 6 more threads\n",
            "2020-09-14 16:20:57,286 : INFO : worker thread finished; awaiting finish of 5 more threads\n",
            "2020-09-14 16:20:57,291 : INFO : worker thread finished; awaiting finish of 4 more threads\n",
            "2020-09-14 16:20:57,296 : INFO : worker thread finished; awaiting finish of 3 more threads\n",
            "2020-09-14 16:20:57,302 : INFO : worker thread finished; awaiting finish of 2 more threads\n",
            "2020-09-14 16:20:57,306 : INFO : worker thread finished; awaiting finish of 1 more threads\n",
            "2020-09-14 16:20:57,310 : INFO : worker thread finished; awaiting finish of 0 more threads\n",
            "2020-09-14 16:20:57,310 : INFO : EPOCH - 31 : training on 1077096 raw words (870674 effective words) took 1.3s, 672667 effective words/s\n",
            "2020-09-14 16:20:58,338 : INFO : EPOCH 32 - PROGRESS: at 74.56% examples, 633312 words/s, in_qsize 14, out_qsize 1\n",
            "2020-09-14 16:20:58,601 : INFO : worker thread finished; awaiting finish of 7 more threads\n",
            "2020-09-14 16:20:58,608 : INFO : worker thread finished; awaiting finish of 6 more threads\n",
            "2020-09-14 16:20:58,612 : INFO : worker thread finished; awaiting finish of 5 more threads\n",
            "2020-09-14 16:20:58,636 : INFO : worker thread finished; awaiting finish of 4 more threads\n",
            "2020-09-14 16:20:58,642 : INFO : worker thread finished; awaiting finish of 3 more threads\n",
            "2020-09-14 16:20:58,646 : INFO : worker thread finished; awaiting finish of 2 more threads\n",
            "2020-09-14 16:20:58,651 : INFO : worker thread finished; awaiting finish of 1 more threads\n",
            "2020-09-14 16:20:58,653 : INFO : worker thread finished; awaiting finish of 0 more threads\n",
            "2020-09-14 16:20:58,654 : INFO : EPOCH - 32 : training on 1077096 raw words (870523 effective words) took 1.3s, 652930 effective words/s\n",
            "2020-09-14 16:20:58,655 : INFO : training on a 34467072 raw words (27865567 effective words) took 42.4s, 657956 effective words/s\n"
          ],
          "name": "stderr"
        },
        {
          "output_type": "stream",
          "text": [
            "CPU times: user 2min 35s, sys: 1.05 s, total: 2min 36s\n",
            "Wall time: 42.4 s\n"
          ],
          "name": "stdout"
        },
        {
          "output_type": "execute_result",
          "data": {
            "text/plain": [
              "(27865567, 34467072)"
            ]
          },
          "metadata": {
            "tags": []
          },
          "execution_count": 79
        }
      ]
    },
    {
      "cell_type": "code",
      "metadata": {
        "id": "IQKM1FLBaiOJ",
        "colab_type": "code",
        "colab": {
          "base_uri": "https://localhost:8080/",
          "height": 219
        },
        "outputId": "9e32fd37-39f2-4803-bc38-b95259ed01e3"
      },
      "source": [
        "## We can see the neighbors for 'covid'\n",
        "w2v_model.most_similar(\"covid\")"
      ],
      "execution_count": null,
      "outputs": [
        {
          "output_type": "stream",
          "text": [
            "2020-09-14 17:03:39,611 : INFO : precomputing L2-norms of word weight vectors\n"
          ],
          "name": "stderr"
        },
        {
          "output_type": "execute_result",
          "data": {
            "text/plain": [
              "[('coronaviru', 0.2762545049190521),\n",
              " ('highriskcovid', 0.2422848641872406),\n",
              " ('fightcovid', 0.2326599359512329),\n",
              " ('convid', 0.21754299104213715),\n",
              " ('coronavirussouthafrica', 0.21075555682182312),\n",
              " ('diseas', 0.20423263311386108),\n",
              " ('corvid', 0.1931236982345581),\n",
              " ('lockdowneffect', 0.18478627502918243),\n",
              " ('ncov', 0.17867887020111084),\n",
              " ('coronavirusinpakistan', 0.175050750374794)]"
            ]
          },
          "metadata": {
            "tags": []
          },
          "execution_count": 26
        }
      ]
    },
    {
      "cell_type": "markdown",
      "metadata": {
        "id": "sXwsZ5h-clO2",
        "colab_type": "text"
      },
      "source": [
        "##1.2. Compute embedding matrix"
      ]
    },
    {
      "cell_type": "code",
      "metadata": {
        "id": "ng5SX_Z7dSbE",
        "colab_type": "code",
        "colab": {
          "base_uri": "https://localhost:8080/",
          "height": 34
        },
        "outputId": "228b64bc-de11-4a99-f416-8699910aad84"
      },
      "source": [
        "tokenizer = Tokenizer()\n",
        "tokenizer.fit_on_texts(train_x)\n",
        "\n",
        "vocab_size = len(tokenizer.word_index) + 1\n",
        "print(\"Total words\", vocab_size)"
      ],
      "execution_count": null,
      "outputs": [
        {
          "output_type": "stream",
          "text": [
            "Total words 36691\n"
          ],
          "name": "stdout"
        }
      ]
    },
    {
      "cell_type": "code",
      "metadata": {
        "id": "UKt5fYAqc6PW",
        "colab_type": "code",
        "colab": {
          "base_uri": "https://localhost:8080/",
          "height": 34
        },
        "outputId": "ce9679a7-15fe-4d19-c489-884599d7f507"
      },
      "source": [
        "embedding_matrix = np.zeros((vocab_size, W2V_SIZE))\n",
        "for word, i in tokenizer.word_index.items():\n",
        "    if word in w2v_model.wv:\n",
        "        embedding_matrix[i] = w2v_model.wv[word]\n",
        "print(embedding_matrix.shape)"
      ],
      "execution_count": null,
      "outputs": [
        {
          "output_type": "stream",
          "text": [
            "(36691, 300)\n"
          ],
          "name": "stdout"
        }
      ]
    },
    {
      "cell_type": "markdown",
      "metadata": {
        "id": "fk5Yq-rdbtRe",
        "colab_type": "text"
      },
      "source": [
        "#2.ML (feat.Boosting), might want to work with tf-idf data"
      ]
    },
    {
      "cell_type": "code",
      "metadata": {
        "id": "zaYbyyR7aiDg",
        "colab_type": "code",
        "colab": {}
      },
      "source": [
        "from keras.preprocessing.sequence import pad_sequences\n",
        "\n",
        "from sklearn.ensemble import GradientBoostingClassifier\n",
        "from sklearn.naive_bayes import MultinomialNB\n",
        "import xgboost as xgb\n",
        "\n",
        "from sklearn.metrics  import accuracy_score"
      ],
      "execution_count": null,
      "outputs": []
    },
    {
      "cell_type": "code",
      "metadata": {
        "id": "8bvHaj-zezha",
        "colab_type": "code",
        "colab": {}
      },
      "source": [
        "# ML\n",
        "SEQUENCE_LENGTH = 70  #For fixing each instance x with a set size\n",
        "SEED = 0"
      ],
      "execution_count": null,
      "outputs": []
    },
    {
      "cell_type": "markdown",
      "metadata": {
        "id": "SrCN6UtGfQQZ",
        "colab_type": "text"
      },
      "source": [
        "##2.1. Reshaping data"
      ]
    },
    {
      "cell_type": "code",
      "metadata": {
        "id": "mBRnVhEgetP8",
        "colab_type": "code",
        "colab": {}
      },
      "source": [
        "## Mind the names (train_x has sentences, x_train has sequences)!\n",
        "x_train = pad_sequences(tokenizer.texts_to_sequences(train_x), maxlen=SEQUENCE_LENGTH)\n",
        "x_test = pad_sequences(tokenizer.texts_to_sequences(test_x), maxlen=SEQUENCE_LENGTH)"
      ],
      "execution_count": null,
      "outputs": []
    },
    {
      "cell_type": "code",
      "metadata": {
        "id": "6_ycMSaTfrDS",
        "colab_type": "code",
        "colab": {
          "base_uri": "https://localhost:8080/",
          "height": 35
        },
        "outputId": "a18a78af-abfd-4c04-a97f-803534743a35"
      },
      "source": [
        "train_x.shape"
      ],
      "execution_count": null,
      "outputs": [
        {
          "output_type": "execute_result",
          "data": {
            "text/plain": [
              "(56985,)"
            ]
          },
          "metadata": {
            "tags": []
          },
          "execution_count": 32
        }
      ]
    },
    {
      "cell_type": "code",
      "metadata": {
        "id": "AvDL_Jq0fPlq",
        "colab_type": "code",
        "colab": {
          "base_uri": "https://localhost:8080/",
          "height": 51
        },
        "outputId": "922f907e-123c-41df-e8e7-0d72f40f3931"
      },
      "source": [
        "train_x_ML = np.zeros((train_x.shape[0], 1))\n",
        "for i, row in enumerate(tqdm(x_train)):\n",
        "    train_x_ML[i] = np.mean([embedding_matrix[x] for x in row])\n",
        "\n",
        "test_x_ML = np.zeros((test_x.shape[0], 1))\n",
        "for i, row in enumerate(tqdm(x_test)):\n",
        "    test_x_ML[i] = np.mean([embedding_matrix[x] for x in row])"
      ],
      "execution_count": null,
      "outputs": [
        {
          "output_type": "stream",
          "text": [
            "100%|██████████| 56985/56985 [00:03<00:00, 14854.43it/s]\n",
            "100%|██████████| 3793/3793 [00:00<00:00, 14922.11it/s]\n"
          ],
          "name": "stderr"
        }
      ]
    },
    {
      "cell_type": "markdown",
      "metadata": {
        "id": "sE4D226-BLuS",
        "colab_type": "text"
      },
      "source": [
        "##2.3.OR using just tfidf"
      ]
    },
    {
      "cell_type": "code",
      "metadata": {
        "id": "GZ8VJNewBP3W",
        "colab_type": "code",
        "colab": {}
      },
      "source": [
        "from sklearn.model_selection import train_test_split\n",
        "from sklearn.metrics  import accuracy_score\n",
        "from sklearn.utils import shuffle\n",
        "from sklearn.preprocessing import OneHotEncoder\n",
        "from sklearn.feature_extraction.text import TfidfVectorizer\n",
        "\n",
        "from sklearn.preprocessing import LabelEncoder"
      ],
      "execution_count": null,
      "outputs": []
    },
    {
      "cell_type": "code",
      "metadata": {
        "id": "T-HuAXS2B3vg",
        "colab_type": "code",
        "colab": {}
      },
      "source": [
        "# Get training and validation data\n",
        "X_train, X_val, y_train, y_val = train_test_split(train_x, \n",
        "                                                  train_y, \n",
        "                                                  test_size=0.2, \n",
        "                                                  random_state=SEED)\n",
        "\n",
        "# Get sentiment labels for test set\n",
        "# y_test = test_set['airline_sentiment']"
      ],
      "execution_count": null,
      "outputs": []
    },
    {
      "cell_type": "code",
      "metadata": {
        "id": "FvHMvIKGBQbg",
        "colab_type": "code",
        "colab": {}
      },
      "source": [
        "# Create matrix based on word frequency in tweets\n",
        "vectorizer = TfidfVectorizer()\n",
        "X_train = vectorizer.fit_transform(X_train)\n",
        "X_val = vectorizer.transform(X_val)\n",
        "X_test = vectorizer.transform(test_x)"
      ],
      "execution_count": null,
      "outputs": []
    },
    {
      "cell_type": "code",
      "metadata": {
        "id": "LJLAEcTeBQYg",
        "colab_type": "code",
        "colab": {
          "base_uri": "https://localhost:8080/",
          "height": 87
        },
        "outputId": "65712e8a-df74-4af3-89cb-1383a612285c"
      },
      "source": [
        "# Print the size of our data\n",
        "print(f'Training size: {X_train.shape[0]} tweets\\n\\\n",
        "Validation size: {X_val.shape[0]} tweets\\n\\\n",
        "Test size: {X_test.shape[0]} tweets\\n\\\n",
        "Amount of words (columns): {X_train.shape[1]} words')"
      ],
      "execution_count": null,
      "outputs": [
        {
          "output_type": "stream",
          "text": [
            "Training size: 45588 tweets\n",
            "Validation size: 11397 tweets\n",
            "Test size: 3793 tweets\n",
            "Amount of words (columns): 32948 words\n"
          ],
          "name": "stdout"
        }
      ]
    },
    {
      "cell_type": "code",
      "metadata": {
        "id": "fLfaSjy3BP0V",
        "colab_type": "code",
        "colab": {
          "base_uri": "https://localhost:8080/",
          "height": 34
        },
        "outputId": "aeadd356-54af-441b-ef40-f1a1033e04c8"
      },
      "source": [
        "X_val.shape"
      ],
      "execution_count": null,
      "outputs": [
        {
          "output_type": "execute_result",
          "data": {
            "text/plain": [
              "(11397, 32948)"
            ]
          },
          "metadata": {
            "tags": []
          },
          "execution_count": 33
        }
      ]
    },
    {
      "cell_type": "markdown",
      "metadata": {
        "id": "DfnhXdeTpMLq",
        "colab_type": "text"
      },
      "source": [
        "##2.4.Naive Bayes"
      ]
    },
    {
      "cell_type": "code",
      "metadata": {
        "id": "h82UtD_KpOsK",
        "colab_type": "code",
        "colab": {
          "base_uri": "https://localhost:8080/",
          "height": 34
        },
        "outputId": "2803260c-a3f2-4a0a-d9e4-0c67ec628c48"
      },
      "source": [
        "# Multinomial Naive Bayes\n",
        "multi_nb = MultinomialNB()\n",
        "multi_nb.fit(X_train, y_train)"
      ],
      "execution_count": null,
      "outputs": [
        {
          "output_type": "execute_result",
          "data": {
            "text/plain": [
              "MultinomialNB(alpha=1.0, class_prior=None, fit_prior=True)"
            ]
          },
          "metadata": {
            "tags": []
          },
          "execution_count": 34
        }
      ]
    },
    {
      "cell_type": "code",
      "metadata": {
        "id": "CiEYpl96CxEw",
        "colab_type": "code",
        "colab": {
          "base_uri": "https://localhost:8080/",
          "height": 52
        },
        "outputId": "b88a9215-1c6c-47de-d5d4-c4720dbdd62d"
      },
      "source": [
        "# Check results\n",
        "train_pred = multi_nb.predict(X_train)\n",
        "val_pred = multi_nb.predict(X_val)\n",
        "print(f'Accuracy on training set (MultinomialNB): {round(accuracy_score(y_train, train_pred)*100, 4)}%')\n",
        "print(f'Accuracy on validation set (MultinomialNB): {round(accuracy_score(y_val,val_pred)*100, 4)}%')"
      ],
      "execution_count": null,
      "outputs": [
        {
          "output_type": "stream",
          "text": [
            "Accuracy on training set (MultinomialNB): 73.368%\n",
            "Accuracy on validation set (MultinomialNB): 57.638%\n"
          ],
          "name": "stdout"
        }
      ]
    },
    {
      "cell_type": "markdown",
      "metadata": {
        "id": "DFQKKw94g1sS",
        "colab_type": "text"
      },
      "source": [
        "##2.3.Gradient Boost"
      ]
    },
    {
      "cell_type": "code",
      "metadata": {
        "id": "53RwElZkcebI",
        "colab_type": "code",
        "colab": {
          "base_uri": "https://localhost:8080/",
          "height": 194
        },
        "outputId": "a32012a9-76c7-4f2f-ee7d-cd5514fabf45"
      },
      "source": [
        "# sklearn's Gradient Boosting Classifier (GBM)\n",
        "gbm = GradientBoostingClassifier(n_estimators=200, \n",
        "                                 max_depth=6, \n",
        "                                 random_state=SEED)\n",
        "gbm.fit(X_train, y_train)"
      ],
      "execution_count": null,
      "outputs": [
        {
          "output_type": "execute_result",
          "data": {
            "text/plain": [
              "GradientBoostingClassifier(ccp_alpha=0.0, criterion='friedman_mse', init=None,\n",
              "                           learning_rate=0.1, loss='deviance', max_depth=6,\n",
              "                           max_features=None, max_leaf_nodes=None,\n",
              "                           min_impurity_decrease=0.0, min_impurity_split=None,\n",
              "                           min_samples_leaf=1, min_samples_split=2,\n",
              "                           min_weight_fraction_leaf=0.0, n_estimators=200,\n",
              "                           n_iter_no_change=None, presort='deprecated',\n",
              "                           random_state=0, subsample=1.0, tol=0.0001,\n",
              "                           validation_fraction=0.1, verbose=0,\n",
              "                           warm_start=False)"
            ]
          },
          "metadata": {
            "tags": []
          },
          "execution_count": 36
        }
      ]
    },
    {
      "cell_type": "code",
      "metadata": {
        "id": "tiuheKGVg7mj",
        "colab_type": "code",
        "colab": {
          "base_uri": "https://localhost:8080/",
          "height": 52
        },
        "outputId": "23d4aee8-3bbe-4285-a3a8-a36534d8cad6"
      },
      "source": [
        "# Check results\n",
        "train_pred = gbm.predict(X_train)\n",
        "val_pred = gbm.predict(X_val)\n",
        "print(f'Accuracy on training set (GBM): {round(accuracy_score(y_train, train_pred)*100, 4)}%')\n",
        "print(f'Accuracy on validation set (GBM): {round(accuracy_score(y_val,val_pred)*100, 4)}%')"
      ],
      "execution_count": null,
      "outputs": [
        {
          "output_type": "stream",
          "text": [
            "Accuracy on training set (GBM): 78.1763%\n",
            "Accuracy on validation set (GBM): 65.2716%\n"
          ],
          "name": "stdout"
        }
      ]
    },
    {
      "cell_type": "markdown",
      "metadata": {
        "id": "auB_PYJYlRQB",
        "colab_type": "text"
      },
      "source": [
        "##2.4.XG Boost"
      ]
    },
    {
      "cell_type": "code",
      "metadata": {
        "id": "QeQ2vaLtg7Jf",
        "colab_type": "code",
        "colab": {}
      },
      "source": [
        "# Hyperparameters that you can tweak\n",
        "# There are a lot more tweakable hyperparameters that you can find at \n",
        "# https://xgboost.readthedocs.io/en/latest/parameter.html\n",
        "xgb_params = {'objective' : 'multi:softmax',\n",
        "              'eval_metric' : 'mlogloss',\n",
        "              'eta' : 0.1,\n",
        "              'max_depth' : 6,\n",
        "              'num_class' : 5,\n",
        "              'lambda' : 0.8,\n",
        "              'estimators' : 200,\n",
        "              'seed' : SEED\n",
        "              \n",
        "}\n",
        "\n",
        "# Transform categories into numbers\n",
        "# negative = 0, neutral = 1 and positive = 2\n",
        "encoder = LabelEncoder()\n",
        "encoder.fit(y_train)\n",
        "\n",
        "target_train = encoder.transform(y_train)\n",
        "target_val = encoder.transform(y_val)\n",
        "\n",
        "# target_train = y_train\n",
        "# target_val = pd.Series(y_val).astype('category').cat.codes\n",
        "\n",
        "\n",
        "# Transform data into a matrix so that we can use XGBoost\n",
        "d_train = xgb.DMatrix(X_train, label = target_train)\n",
        "d_val = xgb.DMatrix(X_val, label = target_val)\n",
        "\n",
        "# Fit XGBoost\n",
        "watchlist = [(d_train, 'train'), (d_val, 'validation')]\n",
        "bst = xgb.train(xgb_params, \n",
        "                d_train, \n",
        "                400,  \n",
        "                watchlist,\n",
        "                early_stopping_rounds = 50, \n",
        "                verbose_eval = 0)"
      ],
      "execution_count": null,
      "outputs": []
    },
    {
      "cell_type": "code",
      "metadata": {
        "id": "XFsZnrcPg7RH",
        "colab_type": "code",
        "colab": {
          "base_uri": "https://localhost:8080/",
          "height": 52
        },
        "outputId": "4005ce33-fa40-4698-95fa-345d1b28f5c9"
      },
      "source": [
        "# Check results for XGBoost\n",
        "train_pred = bst.predict(d_train)\n",
        "val_pred = bst.predict(d_val)\n",
        "print(f'Accuracy on training set (XGBoost): {round(accuracy_score(target_train, train_pred)*100, 4)}%')\n",
        "print(f'Accuracy on validation set (XGBoost): {round(accuracy_score(target_val, val_pred)*100, 4)}%')"
      ],
      "execution_count": null,
      "outputs": [
        {
          "output_type": "stream",
          "text": [
            "Accuracy on training set (XGBoost): 79.556%\n",
            "Accuracy on validation set (XGBoost): 66.0876%\n"
          ],
          "name": "stdout"
        }
      ]
    },
    {
      "cell_type": "code",
      "metadata": {
        "id": "hbsTrtNWzUe6",
        "colab_type": "code",
        "colab": {}
      },
      "source": [
        "y_test = test_y"
      ],
      "execution_count": null,
      "outputs": []
    },
    {
      "cell_type": "code",
      "metadata": {
        "id": "O1NFx8rBEeR1",
        "colab_type": "code",
        "colab": {}
      },
      "source": [
        "# Multinomial Naive Bayes\n",
        "multinb_test_pred = multi_nb.predict(X_test)\n",
        "\n",
        "# Gradient Boosting Classifier\n",
        "gbm_test_pred = gbm.predict(X_test)\n",
        "\n",
        "# XGBoost\n",
        "# Transform test data for XGBoost\n",
        "target_test = encoder.transform(y_test)\n",
        "d_test = xgb.DMatrix(X_test, label = target_test)\n",
        "xgboost_test_pred = bst.predict(d_test)"
      ],
      "execution_count": null,
      "outputs": []
    },
    {
      "cell_type": "code",
      "metadata": {
        "id": "NdFO0hPjEhtn",
        "colab_type": "code",
        "colab": {
          "base_uri": "https://localhost:8080/",
          "height": 70
        },
        "outputId": "84f86fc7-9594-44eb-906b-8224b878b3a2"
      },
      "source": [
        "# Get accuracies\n",
        "print(f'Accuracy for Multinomial Naive Bayes: {round(accuracy_score(y_test, multinb_test_pred)*100, 4)}%')\n",
        "print(f'Accuracy for Gradient Boosting Classifier: {round(accuracy_score(y_test, gbm_test_pred)*100, 4)}%')\n",
        "print(f'Accuracy for XGBoost: {round(accuracy_score(target_test, xgboost_test_pred)*100, 4)}%')"
      ],
      "execution_count": null,
      "outputs": [
        {
          "output_type": "stream",
          "text": [
            "Accuracy for Multinomial Naive Bayes: 44.7667%\n",
            "Accuracy for Gradient Boosting Classifier: 51.5423%\n",
            "Accuracy for XGBoost: 52.8342%\n"
          ],
          "name": "stdout"
        }
      ]
    },
    {
      "cell_type": "code",
      "metadata": {
        "id": "5WKhPZu9g7PT",
        "colab_type": "code",
        "colab": {}
      },
      "source": [
        ""
      ],
      "execution_count": null,
      "outputs": []
    },
    {
      "cell_type": "markdown",
      "metadata": {
        "id": "zqYfU6CNnm08",
        "colab_type": "text"
      },
      "source": [
        "#3.CNN"
      ]
    },
    {
      "cell_type": "code",
      "metadata": {
        "id": "F_daqirAg7Cc",
        "colab_type": "code",
        "colab": {}
      },
      "source": [
        "from sklearn.preprocessing import LabelEncoder\n",
        "from sklearn.metrics import confusion_matrix, classification_report, accuracy_score\n",
        "\n",
        "from keras.preprocessing.text import Tokenizer as keras_tokenizer\n",
        "from keras.preprocessing.sequence import pad_sequences\n",
        "from keras.layers import Input, Dense, Embedding, Conv2D, MaxPool2D\n",
        "from keras.layers import Reshape, Flatten, Dropout, Concatenate\n",
        "from keras.callbacks import ReduceLROnPlateau, EarlyStopping\n",
        "from keras.optimizers import Adam\n",
        "from keras.models import Model\n",
        "from keras import utils"
      ],
      "execution_count": null,
      "outputs": []
    },
    {
      "cell_type": "code",
      "metadata": {
        "id": "cZV2YqxvoQD7",
        "colab_type": "code",
        "colab": {}
      },
      "source": [
        "# KERAS\n",
        "SEQUENCE_LENGTH = 70\n",
        "EPOCHS = 8\n",
        "BATCH_SIZE = 1024\n",
        "\n",
        "EMBEDDING_DIM = W2V_SIZE\n",
        "FILTER_SIZES = [3,4,5]\n",
        "NUM_FILTERS = 512\n",
        "DROP=0.5"
      ],
      "execution_count": null,
      "outputs": []
    },
    {
      "cell_type": "code",
      "metadata": {
        "id": "Kej0RUZs8mio",
        "colab_type": "code",
        "colab": {
          "base_uri": "https://localhost:8080/",
          "height": 34
        },
        "outputId": "ef16d4da-30be-4595-bb50-2139bba1cde8"
      },
      "source": [
        "tokenizer = keras_tokenizer()\n",
        "tokenizer.fit_on_texts(train_x)\n",
        "\n",
        "vocab_size = len(tokenizer.word_index) + 1\n",
        "print(\"Total words\", vocab_size)"
      ],
      "execution_count": null,
      "outputs": [
        {
          "output_type": "stream",
          "text": [
            "Total words 36691\n"
          ],
          "name": "stdout"
        }
      ]
    },
    {
      "cell_type": "code",
      "metadata": {
        "colab_type": "code",
        "id": "mlVMY8ceofh8",
        "colab": {}
      },
      "source": [
        "## Mind the names (train_x has sentences, x_train has sequences)!\n",
        "x_train = pad_sequences(tokenizer.texts_to_sequences(train_x), maxlen=SEQUENCE_LENGTH)\n",
        "x_test = pad_sequences(tokenizer.texts_to_sequences(test_x), maxlen=SEQUENCE_LENGTH)"
      ],
      "execution_count": null,
      "outputs": []
    },
    {
      "cell_type": "code",
      "metadata": {
        "id": "6Im5tQ5woUo2",
        "colab_type": "code",
        "colab": {}
      },
      "source": [
        "encoder = LabelEncoder()\n",
        "encoder.fit(train_y)\n",
        "\n",
        "y_train = encoder.transform(train_y)\n",
        "y_train = utils.to_categorical(y_train)\n",
        "\n",
        "y_test = encoder.transform(test_y)\n",
        "y_test = utils.to_categorical(y_test)"
      ],
      "execution_count": null,
      "outputs": []
    },
    {
      "cell_type": "markdown",
      "metadata": {
        "id": "euq2UTp2quoC",
        "colab_type": "text"
      },
      "source": [
        "Model"
      ]
    },
    {
      "cell_type": "code",
      "metadata": {
        "id": "8RJvOGdtoUzB",
        "colab_type": "code",
        "colab": {}
      },
      "source": [
        "embedding_layer = Embedding(input_dim=vocab_size, output_dim=W2V_SIZE, weights=[embedding_matrix], input_length=SEQUENCE_LENGTH, trainable=False)"
      ],
      "execution_count": null,
      "outputs": []
    },
    {
      "cell_type": "code",
      "metadata": {
        "id": "pHnCkBwOoUx6",
        "colab_type": "code",
        "colab": {}
      },
      "source": [
        "inputs = Input(shape=(SEQUENCE_LENGTH,), dtype='int32')\n",
        "embedding = embedding_layer(inputs)\n",
        "reshape = Reshape((SEQUENCE_LENGTH, EMBEDDING_DIM,1))(embedding)\n",
        "\n",
        "conv_0 = Conv2D(NUM_FILTERS, kernel_size=(FILTER_SIZES[0], EMBEDDING_DIM), padding='valid', activation='relu')(reshape)\n",
        "conv_1 = Conv2D(NUM_FILTERS, kernel_size=(FILTER_SIZES[1], EMBEDDING_DIM), padding='valid', activation='relu')(reshape)\n",
        "conv_2 = Conv2D(NUM_FILTERS, kernel_size=(FILTER_SIZES[2], EMBEDDING_DIM), padding='valid', activation='relu')(reshape)\n",
        "\n",
        "pool_0 = MaxPool2D(pool_size=(SEQUENCE_LENGTH-FILTER_SIZES[0]+1, 1), strides=(1,1), padding='valid')(conv_0)\n",
        "pool_1 = MaxPool2D(pool_size=(SEQUENCE_LENGTH-FILTER_SIZES[1]+1, 1), strides=(1,1), padding='valid')(conv_1)\n",
        "pool_2 = MaxPool2D(pool_size=(SEQUENCE_LENGTH-FILTER_SIZES[2]+1, 1), strides=(1,1), padding='valid')(conv_2)\n",
        "\n",
        "concatenated_tensor = Concatenate(axis=1)([pool_0, pool_1, pool_2])\n",
        "flatten = Flatten()(concatenated_tensor)\n",
        "dropout = Dropout(DROP)(flatten)\n",
        "outputs = Dense(units=5, activation='softmax')(dropout)\n",
        "\n",
        "cnn = Model(inputs=inputs, outputs=outputs)"
      ],
      "execution_count": null,
      "outputs": []
    },
    {
      "cell_type": "code",
      "metadata": {
        "id": "RvXYjmoRoUsN",
        "colab_type": "code",
        "colab": {
          "base_uri": "https://localhost:8080/",
          "height": 656
        },
        "outputId": "348e8d8e-1b38-4b67-849e-5724da16dcae"
      },
      "source": [
        "cnn.summary()"
      ],
      "execution_count": null,
      "outputs": [
        {
          "output_type": "stream",
          "text": [
            "Model: \"functional_1\"\n",
            "__________________________________________________________________________________________________\n",
            "Layer (type)                    Output Shape         Param #     Connected to                     \n",
            "==================================================================================================\n",
            "input_1 (InputLayer)            [(None, 70)]         0                                            \n",
            "__________________________________________________________________________________________________\n",
            "embedding (Embedding)           (None, 70, 300)      11007300    input_1[0][0]                    \n",
            "__________________________________________________________________________________________________\n",
            "reshape (Reshape)               (None, 70, 300, 1)   0           embedding[0][0]                  \n",
            "__________________________________________________________________________________________________\n",
            "conv2d (Conv2D)                 (None, 68, 1, 512)   461312      reshape[0][0]                    \n",
            "__________________________________________________________________________________________________\n",
            "conv2d_1 (Conv2D)               (None, 67, 1, 512)   614912      reshape[0][0]                    \n",
            "__________________________________________________________________________________________________\n",
            "conv2d_2 (Conv2D)               (None, 66, 1, 512)   768512      reshape[0][0]                    \n",
            "__________________________________________________________________________________________________\n",
            "max_pooling2d (MaxPooling2D)    (None, 1, 1, 512)    0           conv2d[0][0]                     \n",
            "__________________________________________________________________________________________________\n",
            "max_pooling2d_1 (MaxPooling2D)  (None, 1, 1, 512)    0           conv2d_1[0][0]                   \n",
            "__________________________________________________________________________________________________\n",
            "max_pooling2d_2 (MaxPooling2D)  (None, 1, 1, 512)    0           conv2d_2[0][0]                   \n",
            "__________________________________________________________________________________________________\n",
            "concatenate (Concatenate)       (None, 3, 1, 512)    0           max_pooling2d[0][0]              \n",
            "                                                                 max_pooling2d_1[0][0]            \n",
            "                                                                 max_pooling2d_2[0][0]            \n",
            "__________________________________________________________________________________________________\n",
            "flatten (Flatten)               (None, 1536)         0           concatenate[0][0]                \n",
            "__________________________________________________________________________________________________\n",
            "dropout (Dropout)               (None, 1536)         0           flatten[0][0]                    \n",
            "__________________________________________________________________________________________________\n",
            "dense (Dense)                   (None, 5)            7685        dropout[0][0]                    \n",
            "==================================================================================================\n",
            "Total params: 12,859,721\n",
            "Trainable params: 1,852,421\n",
            "Non-trainable params: 11,007,300\n",
            "__________________________________________________________________________________________________\n"
          ],
          "name": "stdout"
        }
      ]
    },
    {
      "cell_type": "code",
      "metadata": {
        "id": "G8qR4g92rCa_",
        "colab_type": "code",
        "colab": {}
      },
      "source": [
        "cnn.compile(loss='categorical_crossentropy',\n",
        "              optimizer=\"adam\",\n",
        "              metrics=['accuracy'])"
      ],
      "execution_count": null,
      "outputs": []
    },
    {
      "cell_type": "code",
      "metadata": {
        "id": "x3Com3jsrHCp",
        "colab_type": "code",
        "colab": {
          "base_uri": "https://localhost:8080/",
          "height": 301
        },
        "outputId": "c08f5ed9-88f0-4fa9-8fed-bcf74fed22a3"
      },
      "source": [
        "history_cnn = cnn.fit(x_train, y_train,\n",
        "                    batch_size=BATCH_SIZE,\n",
        "                    epochs=EPOCHS,\n",
        "                    validation_split=0.1,\n",
        "                    verbose=1)\n"
      ],
      "execution_count": null,
      "outputs": [
        {
          "output_type": "stream",
          "text": [
            "Epoch 1/8\n",
            "51/51 [==============================] - 10s 192ms/step - loss: 1.2367 - accuracy: 0.4906 - val_loss: 1.1085 - val_accuracy: 0.6122\n",
            "Epoch 2/8\n",
            "51/51 [==============================] - 10s 188ms/step - loss: 0.9512 - accuracy: 0.6195 - val_loss: 0.8904 - val_accuracy: 0.7266\n",
            "Epoch 3/8\n",
            "51/51 [==============================] - 10s 189ms/step - loss: 0.8104 - accuracy: 0.6864 - val_loss: 0.7228 - val_accuracy: 0.7952\n",
            "Epoch 4/8\n",
            "51/51 [==============================] - 10s 189ms/step - loss: 0.7114 - accuracy: 0.7298 - val_loss: 0.5142 - val_accuracy: 0.8687\n",
            "Epoch 5/8\n",
            "51/51 [==============================] - 10s 189ms/step - loss: 0.6409 - accuracy: 0.7567 - val_loss: 0.3955 - val_accuracy: 0.9086\n",
            "Epoch 6/8\n",
            "51/51 [==============================] - 10s 189ms/step - loss: 0.5802 - accuracy: 0.7832 - val_loss: 0.3542 - val_accuracy: 0.9256\n",
            "Epoch 7/8\n",
            "51/51 [==============================] - 10s 189ms/step - loss: 0.5231 - accuracy: 0.8053 - val_loss: 0.3103 - val_accuracy: 0.9310\n",
            "Epoch 8/8\n",
            "51/51 [==============================] - 10s 189ms/step - loss: 0.4830 - accuracy: 0.8225 - val_loss: 0.2586 - val_accuracy: 0.9500\n"
          ],
          "name": "stdout"
        }
      ]
    },
    {
      "cell_type": "code",
      "metadata": {
        "id": "41FQCV19rSqz",
        "colab_type": "code",
        "colab": {
          "base_uri": "https://localhost:8080/",
          "height": 294
        },
        "outputId": "0cdf309a-84a9-493e-9590-883de450e2a5"
      },
      "source": [
        "plt.plot(history_cnn.history['accuracy'])\n",
        "plt.plot(history_cnn.history['val_accuracy'])\n",
        "plt.title('model accuracy')\n",
        "plt.ylabel('accuracy')\n",
        "plt.xlabel('epoch')\n",
        "plt.legend(['train', 'val'], loc='upper left')\n",
        "plt.show()"
      ],
      "execution_count": null,
      "outputs": [
        {
          "output_type": "display_data",
          "data": {
            "image/png": "[encoded data removed]",
            "text/plain": [
              "<Figure size 432x288 with 1 Axes>"
            ]
          },
          "metadata": {
            "tags": [],
            "needs_background": "light"
          }
        }
      ]
    },
    {
      "cell_type": "code",
      "metadata": {
        "id": "PeJRe8eMrhQk",
        "colab_type": "code",
        "colab": {
          "base_uri": "https://localhost:8080/",
          "height": 87
        },
        "outputId": "ed575b97-5458-403a-9be8-39557e761d2e"
      },
      "source": [
        "score = cnn.evaluate(x_test, y_test, batch_size=BATCH_SIZE)\n",
        "print()\n",
        "print(\"ACCURACY:\",score[1])\n",
        "print(\"LOSS:\",score[0])"
      ],
      "execution_count": null,
      "outputs": [
        {
          "output_type": "stream",
          "text": [
            "4/4 [==============================] - 0s 55ms/step - loss: 1.1949 - accuracy: 0.5537\n",
            "\n",
            "ACCURACY: 0.5536514520645142\n",
            "LOSS: 1.1948870420455933\n"
          ],
          "name": "stdout"
        }
      ]
    },
    {
      "cell_type": "markdown",
      "metadata": {
        "id": "dL39E5jvsEBY",
        "colab_type": "text"
      },
      "source": [
        "#4.BERT"
      ]
    },
    {
      "cell_type": "code",
      "metadata": {
        "id": "hljvbk9MsM2c",
        "colab_type": "code",
        "colab": {
          "base_uri": "https://localhost:8080/",
          "height": 621
        },
        "outputId": "49fece78-6a75-4f43-b5cf-8f6ee75ae13b"
      },
      "source": [
        "!pip install transformers"
      ],
      "execution_count": null,
      "outputs": [
        {
          "output_type": "stream",
          "text": [
            "Collecting transformers\n",
            "\u001b[?25l  Downloading https://files.pythonhosted.org/packages/d8/f4/9f93f06dd2c57c7cd7aa515ffbf9fcfd8a084b92285732289f4a5696dd91/transformers-3.2.0-py3-none-any.whl (1.0MB)\n",
            "\u001b[K     |████████████████████████████████| 1.0MB 5.4MB/s \n",
            "\u001b[?25hRequirement already satisfied: packaging in /usr/local/lib/python3.6/dist-packages (from transformers) (20.4)\n",
            "Collecting sentencepiece!=0.1.92\n",
            "\u001b[?25l  Downloading https://files.pythonhosted.org/packages/d4/a4/d0a884c4300004a78cca907a6ff9a5e9fe4f090f5d95ab341c53d28cbc58/sentencepiece-0.1.91-cp36-cp36m-manylinux1_x86_64.whl (1.1MB)\n",
            "\u001b[K     |████████████████████████████████| 1.1MB 32.5MB/s \n",
            "\u001b[?25hRequirement already satisfied: requests in /usr/local/lib/python3.6/dist-packages (from transformers) (2.23.0)\n",
            "Requirement already satisfied: filelock in /usr/local/lib/python3.6/dist-packages (from transformers) (3.0.12)\n",
            "Requirement already satisfied: regex!=2019.12.17 in /usr/local/lib/python3.6/dist-packages (from transformers) (2019.12.20)\n",
            "Collecting sacremoses\n",
            "\u001b[?25l  Downloading https://files.pythonhosted.org/packages/7d/34/09d19aff26edcc8eb2a01bed8e98f13a1537005d31e95233fd48216eed10/sacremoses-0.0.43.tar.gz (883kB)\n",
            "\u001b[K     |████████████████████████████████| 890kB 14.9MB/s \n",
            "\u001b[?25hRequirement already satisfied: numpy in /usr/local/lib/python3.6/dist-packages (from transformers) (1.18.5)\n",
            "Requirement already satisfied: dataclasses; python_version < \"3.7\" in /usr/local/lib/python3.6/dist-packages (from transformers) (0.7)\n",
            "Requirement already satisfied: tqdm>=4.27 in /usr/local/lib/python3.6/dist-packages (from transformers) (4.41.1)\n",
            "Collecting tokenizers==0.8.1.rc2\n",
            "\u001b[?25l  Downloading https://files.pythonhosted.org/packages/80/83/8b9fccb9e48eeb575ee19179e2bdde0ee9a1904f97de5f02d19016b8804f/tokenizers-0.8.1rc2-cp36-cp36m-manylinux1_x86_64.whl (3.0MB)\n",
            "\u001b[K     |████████████████████████████████| 3.0MB 42.3MB/s \n",
            "\u001b[?25hRequirement already satisfied: pyparsing>=2.0.2 in /usr/local/lib/python3.6/dist-packages (from packaging->transformers) (2.4.7)\n",
            "Requirement already satisfied: six in /usr/local/lib/python3.6/dist-packages (from packaging->transformers) (1.15.0)\n",
            "Requirement already satisfied: urllib3!=1.25.0,!=1.25.1,<1.26,>=1.21.1 in /usr/local/lib/python3.6/dist-packages (from requests->transformers) (1.24.3)\n",
            "Requirement already satisfied: certifi>=2017.4.17 in /usr/local/lib/python3.6/dist-packages (from requests->transformers) (2020.6.20)\n",
            "Requirement already satisfied: chardet<4,>=3.0.2 in /usr/local/lib/python3.6/dist-packages (from requests->transformers) (3.0.4)\n",
            "Requirement already satisfied: idna<3,>=2.5 in /usr/local/lib/python3.6/dist-packages (from requests->transformers) (2.10)\n",
            "Requirement already satisfied: click in /usr/local/lib/python3.6/dist-packages (from sacremoses->transformers) (7.1.2)\n",
            "Requirement already satisfied: joblib in /usr/local/lib/python3.6/dist-packages (from sacremoses->transformers) (0.16.0)\n",
            "Building wheels for collected packages: sacremoses\n",
            "  Building wheel for sacremoses (setup.py) ... \u001b[?25l\u001b[?25hdone\n",
            "  Created wheel for sacremoses: filename=sacremoses-0.0.43-cp36-none-any.whl size=893257 sha256=a89b852794670208b8264419beb375b1ba900232df8e31b7db82bc4d26fa5679\n",
            "  Stored in directory: /root/.cache/pip/wheels/29/3c/fd/7ce5c3f0666dab31a50123635e6fb5e19ceb42ce38d4e58f45\n",
            "Successfully built sacremoses\n",
            "Installing collected packages: sentencepiece, sacremoses, tokenizers, transformers\n",
            "Successfully installed sacremoses-0.0.43 sentencepiece-0.1.91 tokenizers-0.8.1rc2 transformers-3.2.0\n"
          ],
          "name": "stdout"
        }
      ]
    },
    {
      "cell_type": "code",
      "metadata": {
        "id": "C-pmQ8RtrrO-",
        "colab_type": "code",
        "colab": {
          "base_uri": "https://localhost:8080/",
          "height": 275,
          "referenced_widgets": [
            "b738a3f1ecbe451a9a07801d4daff4a8",
            "f8e4010fb3774f6da650ecc20997d794",
            "16d0eb3039ac4166bb3ca887e22722d7",
            "8d86dd40945945ef9d7e0aa3fb664f2f",
            "3b3c2030ffe445128ef34aff16fdaf4f",
            "6369aaca4366477f8da5cbf8e9bb2b78",
            "ca6901d077cc49d69405b3b056160ccc",
            "7492da55ee0e4ac481cd34e6e270b566",
            "adb2c0dc10ff407f81628f0b36bb62b6",
            "c95ef484a1f1460dbfcc2e227c3546ae",
            "d2ba5647e4604a26a90546f2feb230bf",
            "26db6c39e8f94d4594dba0be62648bab",
            "c68091832ea44386ba9805f77710f973",
            "857d4de8384f4b54bf18160aaebfe234",
            "db504d3cee20427684d3a7fd2e169e6d",
            "2bdc1905d02a4a35817eab23bd3720a0",
            "740a98fb8a5140678ad67e483adb0389",
            "0b1d67d2969e474f91609e201950f9ee",
            "9d3fe7b27e344d189556dd57a40c21d7",
            "3ecdb882c83e4404afb7ac46c82e8a48",
            "b8807db3d6044ce8980163c7b135039c",
            "64125187da774cdc892ea05490a6309e",
            "e93ea711f2e64fe589a0f2a5fea367ae",
            "e9222d90ec8c49f4986d5bbd4a85ada1"
          ]
        },
        "outputId": "8df83bc3-19c5-4f0e-b67b-dc6fff01603b"
      },
      "source": [
        "from transformers import BertTokenizer, TFBertModel\n",
        "tokenizer = BertTokenizer.from_pretrained('bert-base-uncased', do_lower_case=True)\n",
        "bert_model = TFBertModel.from_pretrained('bert-base-uncased')"
      ],
      "execution_count": null,
      "outputs": [
        {
          "output_type": "display_data",
          "data": {
            "application/vnd.jupyter.widget-view+json": {
              "model_id": "b738a3f1ecbe451a9a07801d4daff4a8",
              "version_minor": 0,
              "version_major": 2
            },
            "text/plain": [
              "HBox(children=(FloatProgress(value=0.0, description='Downloading', max=231508.0, style=ProgressStyle(descripti…"
            ]
          },
          "metadata": {
            "tags": []
          }
        },
        {
          "output_type": "stream",
          "text": [
            "\n"
          ],
          "name": "stdout"
        },
        {
          "output_type": "display_data",
          "data": {
            "application/vnd.jupyter.widget-view+json": {
              "model_id": "adb2c0dc10ff407f81628f0b36bb62b6",
              "version_minor": 0,
              "version_major": 2
            },
            "text/plain": [
              "HBox(children=(FloatProgress(value=0.0, description='Downloading', max=433.0, style=ProgressStyle(description_…"
            ]
          },
          "metadata": {
            "tags": []
          }
        },
        {
          "output_type": "stream",
          "text": [
            "\n"
          ],
          "name": "stdout"
        },
        {
          "output_type": "display_data",
          "data": {
            "application/vnd.jupyter.widget-view+json": {
              "model_id": "740a98fb8a5140678ad67e483adb0389",
              "version_minor": 0,
              "version_major": 2
            },
            "text/plain": [
              "HBox(children=(FloatProgress(value=0.0, description='Downloading', max=536063208.0, style=ProgressStyle(descri…"
            ]
          },
          "metadata": {
            "tags": []
          }
        },
        {
          "output_type": "stream",
          "text": [
            "\n"
          ],
          "name": "stdout"
        },
        {
          "output_type": "stream",
          "text": [
            "Some weights of the model checkpoint at bert-base-uncased were not used when initializing TFBertModel: ['nsp___cls', 'mlm___cls']\n",
            "- This IS expected if you are initializing TFBertModel from the checkpoint of a model trained on another task or with another architecture (e.g. initializing a BertForSequenceClassification model from a BertForPretraining model).\n",
            "- This IS NOT expected if you are initializing TFBertModel from the checkpoint of a model that you expect to be exactly identical (initializing a BertForSequenceClassification model from a BertForSequenceClassification model).\n",
            "All the weights of TFBertModel were initialized from the model checkpoint at bert-base-uncased.\n",
            "If your task is similar to the task the model of the checkpoint was trained on, you can already use TFBertModel for predictions without further training.\n"
          ],
          "name": "stderr"
        }
      ]
    },
    {
      "cell_type": "code",
      "metadata": {
        "id": "yVB5Xie4sLfe",
        "colab_type": "code",
        "colab": {}
      },
      "source": [
        "def bert_encode(data,maximum_length) :\n",
        "    input_ids = []\n",
        "    attention_masks = []\n",
        "\n",
        "\n",
        "    for text in tqdm(data):\n",
        "        encoded = tokenizer.encode_plus(\n",
        "\n",
        "        text,\n",
        "        add_special_tokens=True,\n",
        "        max_length=maximum_length,\n",
        "        pad_to_max_length=True,\n",
        "\n",
        "        return_attention_mask=True,\n",
        "\n",
        "        truncation=True\n",
        "      )\n",
        "\n",
        "        input_ids.append(encoded['input_ids'])\n",
        "        attention_masks.append(encoded['attention_mask'])\n",
        "    return np.array(input_ids),np.array(attention_masks)"
      ],
      "execution_count": null,
      "outputs": []
    },
    {
      "cell_type": "code",
      "metadata": {
        "id": "__xTZ4EjsWIj",
        "colab_type": "code",
        "colab": {
          "base_uri": "https://localhost:8080/",
          "height": 90
        },
        "outputId": "b5acfb8b-7cb3-4c9e-d71f-82cf8e467f0f"
      },
      "source": [
        "train_input_ids,train_attention_masks = bert_encode(train_x,SEQUENCE_LENGTH)"
      ],
      "execution_count": null,
      "outputs": [
        {
          "output_type": "stream",
          "text": [
            "  0%|          | 0/56985 [00:00<?, ?it/s]/usr/local/lib/python3.6/dist-packages/transformers/tokenization_utils_base.py:1770: FutureWarning: The `pad_to_max_length` argument is deprecated and will be removed in a future version, use `padding=True` or `padding='longest'` to pad to the longest sequence in the batch, or use `padding='max_length'` to pad to a max length. In this case, you can give a specific length with `max_length` (e.g. `max_length=45`) or leave max_length to None to pad to the maximal input size of the model (e.g. 512 for Bert).\n",
            "  FutureWarning,\n",
            "100%|██████████| 56985/56985 [00:25<00:00, 2276.40it/s]\n"
          ],
          "name": "stderr"
        }
      ]
    },
    {
      "cell_type": "code",
      "metadata": {
        "id": "PkH_Ekiww4DQ",
        "colab_type": "code",
        "colab": {}
      },
      "source": [
        "import tensorflow as tf\n",
        "from tensorflow.keras.optimizers import Adam\n",
        "def create_model(bert_model):\n",
        "    input_ids = tf.keras.Input(shape=(SEQUENCE_LENGTH,),dtype='int32')\n",
        "    attention_masks = tf.keras.Input(shape=(SEQUENCE_LENGTH,),dtype='int32')\n",
        "\n",
        "    output = bert_model([input_ids,attention_masks])\n",
        "    output = output[1]\n",
        "    output = tf.keras.layers.Dense(32,activation='relu')(output)\n",
        "    output = tf.keras.layers.Dropout(DROP)(output)\n",
        "\n",
        "    output = tf.keras.layers.Dense(5,activation='softmax')(output)\n",
        "    model = tf.keras.models.Model(inputs = [input_ids,attention_masks],outputs = output)\n",
        "    model.compile(Adam(lr=6e-6), loss='categorical_crossentropy', metrics=['accuracy'])\n",
        "    return model"
      ],
      "execution_count": null,
      "outputs": []
    },
    {
      "cell_type": "code",
      "metadata": {
        "id": "jSpvKHOe2mKx",
        "colab_type": "code",
        "colab": {
          "base_uri": "https://localhost:8080/",
          "height": 390
        },
        "outputId": "7237e282-a636-42ff-92c5-b5b35d577dea"
      },
      "source": [
        "model = create_model(bert_model)\n",
        "model.summary()"
      ],
      "execution_count": null,
      "outputs": [
        {
          "output_type": "stream",
          "text": [
            "Model: \"functional_3\"\n",
            "__________________________________________________________________________________________________\n",
            "Layer (type)                    Output Shape         Param #     Connected to                     \n",
            "==================================================================================================\n",
            "input_2 (InputLayer)            [(None, 70)]         0                                            \n",
            "__________________________________________________________________________________________________\n",
            "input_3 (InputLayer)            [(None, 70)]         0                                            \n",
            "__________________________________________________________________________________________________\n",
            "tf_bert_model (TFBertModel)     ((None, 70, 768), (N 109482240   input_2[0][0]                    \n",
            "                                                                 input_3[0][0]                    \n",
            "__________________________________________________________________________________________________\n",
            "dense_1 (Dense)                 (None, 32)           24608       tf_bert_model[0][1]              \n",
            "__________________________________________________________________________________________________\n",
            "dropout_38 (Dropout)            (None, 32)           0           dense_1[0][0]                    \n",
            "__________________________________________________________________________________________________\n",
            "dense_2 (Dense)                 (None, 5)            165         dropout_38[0][0]                 \n",
            "==================================================================================================\n",
            "Total params: 109,507,013\n",
            "Trainable params: 109,507,013\n",
            "Non-trainable params: 0\n",
            "__________________________________________________________________________________________________\n"
          ],
          "name": "stdout"
        }
      ]
    },
    {
      "cell_type": "code",
      "metadata": {
        "id": "O3n9YVoR3Cq0",
        "colab_type": "code",
        "colab": {
          "base_uri": "https://localhost:8080/",
          "height": 123
        },
        "outputId": "236b43ea-a9db-4d46-f594-52d9e1088597"
      },
      "source": [
        "bert_history = model.fit([train_input_ids,train_attention_masks],y_train,validation_split=0.2, epochs=3,batch_size=50)"
      ],
      "execution_count": null,
      "outputs": [
        {
          "output_type": "stream",
          "text": [
            "Epoch 1/3\n",
            "912/912 [==============================] - 409s 449ms/step - loss: 1.3607 - accuracy: 0.4082 - val_loss: 0.9355 - val_accuracy: 0.6136\n",
            "Epoch 2/3\n",
            "912/912 [==============================] - 408s 448ms/step - loss: 1.0532 - accuracy: 0.5938 - val_loss: 0.7496 - val_accuracy: 0.7132\n",
            "Epoch 3/3\n",
            "912/912 [==============================] - 409s 448ms/step - loss: 0.9181 - accuracy: 0.6691 - val_loss: 0.6060 - val_accuracy: 0.7841\n"
          ],
          "name": "stdout"
        }
      ]
    },
    {
      "cell_type": "code",
      "metadata": {
        "id": "XDaWQM5M2wH0",
        "colab_type": "code",
        "colab": {
          "base_uri": "https://localhost:8080/",
          "height": 294
        },
        "outputId": "5458992e-b7c4-4a69-b71a-8233fd31a4e7"
      },
      "source": [
        "plt.plot(bert_history.history['accuracy'])\n",
        "plt.plot(bert_history.history['val_accuracy'])\n",
        "plt.title('model accuracy')\n",
        "plt.ylabel('accuracy')\n",
        "plt.xlabel('epoch')\n",
        "plt.legend(['train', 'test'], loc='upper left')\n",
        "plt.show()"
      ],
      "execution_count": null,
      "outputs": [
        {
          "output_type": "display_data",
          "data": {
            "image/png": "[encoded data removed]",
            "text/plain": [
              "<Figure size 432x288 with 1 Axes>"
            ]
          },
          "metadata": {
            "tags": [],
            "needs_background": "light"
          }
        }
      ]
    },
    {
      "cell_type": "code",
      "metadata": {
        "id": "tKv3xZre3f7J",
        "colab_type": "code",
        "colab": {
          "base_uri": "https://localhost:8080/",
          "height": 294
        },
        "outputId": "79eca5b8-949a-4047-8fb7-6aecb2574c6b"
      },
      "source": [
        "plt.plot(bert_history.history['loss'])\n",
        "plt.plot(bert_history.history['val_loss'])\n",
        "plt.title('model loss')\n",
        "plt.ylabel('loss')\n",
        "plt.xlabel('epoch')\n",
        "plt.legend(['train', 'test'], loc='upper left')\n",
        "plt.show()"
      ],
      "execution_count": null,
      "outputs": [
        {
          "output_type": "display_data",
          "data": {
            "image/png": "[encoded data removed]",
            "text/plain": [
              "<Figure size 432x288 with 1 Axes>"
            ]
          },
          "metadata": {
            "tags": [],
            "needs_background": "light"
          }
        }
      ]
    },
    {
      "cell_type": "code",
      "metadata": {
        "id": "iX5tSamG3gQe",
        "colab_type": "code",
        "colab": {
          "base_uri": "https://localhost:8080/",
          "height": 90
        },
        "outputId": "d792841b-fe91-466a-f509-fe20e8b38229"
      },
      "source": [
        "test_input_ids,test_attention_masks = bert_encode(test_x,SEQUENCE_LENGTH)"
      ],
      "execution_count": null,
      "outputs": [
        {
          "output_type": "stream",
          "text": [
            "  0%|          | 0/3793 [00:00<?, ?it/s]/usr/local/lib/python3.6/dist-packages/transformers/tokenization_utils_base.py:1770: FutureWarning: The `pad_to_max_length` argument is deprecated and will be removed in a future version, use `padding=True` or `padding='longest'` to pad to the longest sequence in the batch, or use `padding='max_length'` to pad to a max length. In this case, you can give a specific length with `max_length` (e.g. `max_length=45`) or leave max_length to None to pad to the maximal input size of the model (e.g. 512 for Bert).\n",
            "  FutureWarning,\n",
            "100%|██████████| 3793/3793 [00:01<00:00, 2196.30it/s]\n"
          ],
          "name": "stderr"
        }
      ]
    },
    {
      "cell_type": "code",
      "metadata": {
        "id": "cE_t_UJP3lIY",
        "colab_type": "code",
        "colab": {
          "base_uri": "https://localhost:8080/",
          "height": 87
        },
        "outputId": "f4e7d317-91b3-40e4-e9d9-af2294ef02f5"
      },
      "source": [
        "score = model.evaluate([test_input_ids,test_attention_masks], y_test, batch_size=BATCH_SIZE)\n",
        "print()\n",
        "print(\"ACCURACY:\",score[1])\n",
        "print(\"LOSS:\",score[0])"
      ],
      "execution_count": null,
      "outputs": [
        {
          "output_type": "stream",
          "text": [
            "4/4 [==============================] - 6s 2s/step - loss: 0.9406 - accuracy: 0.6538\n",
            "\n",
            "ACCURACY: 0.6538360118865967\n",
            "LOSS: 0.940627932548523\n"
          ],
          "name": "stdout"
        }
      ]
    },
    {
      "cell_type": "code",
      "metadata": {
        "id": "jP0T38Aj-4dw",
        "colab_type": "code",
        "colab": {}
      },
      "source": [
        ""
      ],
      "execution_count": null,
      "outputs": []
    }
  ]
}